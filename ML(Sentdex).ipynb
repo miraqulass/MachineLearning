{
 "cells": [
  {
   "cell_type": "code",
   "execution_count": 1,
   "id": "ae9dd5ea-3e7b-491e-9a72-cf18e48eb79e",
   "metadata": {},
   "outputs": [],
   "source": [
    "import pandas as pd\n",
    "import quandl\n",
    "import math\n",
    "import numpy as np\n",
    "from sklearn import preprocessing, svm\n",
    "from sklearn.linear_model import LinearRegression\n",
    "from sklearn.model_selection import train_test_split\n",
    "from sklearn.metrics import accuracy_score\n",
    "import joblib"
   ]
  },
  {
   "cell_type": "code",
   "execution_count": 2,
   "id": "f1121ce6-1081-4c27-9b0f-e2c97a7dc75c",
   "metadata": {},
   "outputs": [],
   "source": [
    "df = quandl.get('WIKI/GOOGL', authtoken='wRhCU9heATWRduTXZxnK')"
   ]
  },
  {
   "cell_type": "code",
   "execution_count": 3,
   "id": "a0866e12-c938-40a9-adac-449497f6e2da",
   "metadata": {},
   "outputs": [
    {
     "data": {
      "text/html": [
       "<div>\n",
       "<style scoped>\n",
       "    .dataframe tbody tr th:only-of-type {\n",
       "        vertical-align: middle;\n",
       "    }\n",
       "\n",
       "    .dataframe tbody tr th {\n",
       "        vertical-align: top;\n",
       "    }\n",
       "\n",
       "    .dataframe thead th {\n",
       "        text-align: right;\n",
       "    }\n",
       "</style>\n",
       "<table border=\"1\" class=\"dataframe\">\n",
       "  <thead>\n",
       "    <tr style=\"text-align: right;\">\n",
       "      <th></th>\n",
       "      <th>Open</th>\n",
       "      <th>High</th>\n",
       "      <th>Low</th>\n",
       "      <th>Close</th>\n",
       "      <th>Volume</th>\n",
       "      <th>Ex-Dividend</th>\n",
       "      <th>Split Ratio</th>\n",
       "      <th>Adj. Open</th>\n",
       "      <th>Adj. High</th>\n",
       "      <th>Adj. Low</th>\n",
       "      <th>Adj. Close</th>\n",
       "      <th>Adj. Volume</th>\n",
       "    </tr>\n",
       "    <tr>\n",
       "      <th>Date</th>\n",
       "      <th></th>\n",
       "      <th></th>\n",
       "      <th></th>\n",
       "      <th></th>\n",
       "      <th></th>\n",
       "      <th></th>\n",
       "      <th></th>\n",
       "      <th></th>\n",
       "      <th></th>\n",
       "      <th></th>\n",
       "      <th></th>\n",
       "      <th></th>\n",
       "    </tr>\n",
       "  </thead>\n",
       "  <tbody>\n",
       "    <tr>\n",
       "      <th>2004-08-19</th>\n",
       "      <td>100.01</td>\n",
       "      <td>104.06</td>\n",
       "      <td>95.96</td>\n",
       "      <td>100.335</td>\n",
       "      <td>44659000.0</td>\n",
       "      <td>0.0</td>\n",
       "      <td>1.0</td>\n",
       "      <td>50.159839</td>\n",
       "      <td>52.191109</td>\n",
       "      <td>48.128568</td>\n",
       "      <td>50.322842</td>\n",
       "      <td>44659000.0</td>\n",
       "    </tr>\n",
       "    <tr>\n",
       "      <th>2004-08-20</th>\n",
       "      <td>101.01</td>\n",
       "      <td>109.08</td>\n",
       "      <td>100.50</td>\n",
       "      <td>108.310</td>\n",
       "      <td>22834300.0</td>\n",
       "      <td>0.0</td>\n",
       "      <td>1.0</td>\n",
       "      <td>50.661387</td>\n",
       "      <td>54.708881</td>\n",
       "      <td>50.405597</td>\n",
       "      <td>54.322689</td>\n",
       "      <td>22834300.0</td>\n",
       "    </tr>\n",
       "    <tr>\n",
       "      <th>2004-08-23</th>\n",
       "      <td>110.76</td>\n",
       "      <td>113.48</td>\n",
       "      <td>109.05</td>\n",
       "      <td>109.400</td>\n",
       "      <td>18256100.0</td>\n",
       "      <td>0.0</td>\n",
       "      <td>1.0</td>\n",
       "      <td>55.551482</td>\n",
       "      <td>56.915693</td>\n",
       "      <td>54.693835</td>\n",
       "      <td>54.869377</td>\n",
       "      <td>18256100.0</td>\n",
       "    </tr>\n",
       "    <tr>\n",
       "      <th>2004-08-24</th>\n",
       "      <td>111.24</td>\n",
       "      <td>111.60</td>\n",
       "      <td>103.57</td>\n",
       "      <td>104.870</td>\n",
       "      <td>15247300.0</td>\n",
       "      <td>0.0</td>\n",
       "      <td>1.0</td>\n",
       "      <td>55.792225</td>\n",
       "      <td>55.972783</td>\n",
       "      <td>51.945350</td>\n",
       "      <td>52.597363</td>\n",
       "      <td>15247300.0</td>\n",
       "    </tr>\n",
       "    <tr>\n",
       "      <th>2004-08-25</th>\n",
       "      <td>104.76</td>\n",
       "      <td>108.00</td>\n",
       "      <td>103.88</td>\n",
       "      <td>106.000</td>\n",
       "      <td>9188600.0</td>\n",
       "      <td>0.0</td>\n",
       "      <td>1.0</td>\n",
       "      <td>52.542193</td>\n",
       "      <td>54.167209</td>\n",
       "      <td>52.100830</td>\n",
       "      <td>53.164113</td>\n",
       "      <td>9188600.0</td>\n",
       "    </tr>\n",
       "  </tbody>\n",
       "</table>\n",
       "</div>"
      ],
      "text/plain": [
       "              Open    High     Low    Close      Volume  Ex-Dividend  \\\n",
       "Date                                                                   \n",
       "2004-08-19  100.01  104.06   95.96  100.335  44659000.0          0.0   \n",
       "2004-08-20  101.01  109.08  100.50  108.310  22834300.0          0.0   \n",
       "2004-08-23  110.76  113.48  109.05  109.400  18256100.0          0.0   \n",
       "2004-08-24  111.24  111.60  103.57  104.870  15247300.0          0.0   \n",
       "2004-08-25  104.76  108.00  103.88  106.000   9188600.0          0.0   \n",
       "\n",
       "            Split Ratio  Adj. Open  Adj. High   Adj. Low  Adj. Close  \\\n",
       "Date                                                                   \n",
       "2004-08-19          1.0  50.159839  52.191109  48.128568   50.322842   \n",
       "2004-08-20          1.0  50.661387  54.708881  50.405597   54.322689   \n",
       "2004-08-23          1.0  55.551482  56.915693  54.693835   54.869377   \n",
       "2004-08-24          1.0  55.792225  55.972783  51.945350   52.597363   \n",
       "2004-08-25          1.0  52.542193  54.167209  52.100830   53.164113   \n",
       "\n",
       "            Adj. Volume  \n",
       "Date                     \n",
       "2004-08-19   44659000.0  \n",
       "2004-08-20   22834300.0  \n",
       "2004-08-23   18256100.0  \n",
       "2004-08-24   15247300.0  \n",
       "2004-08-25    9188600.0  "
      ]
     },
     "execution_count": 3,
     "metadata": {},
     "output_type": "execute_result"
    }
   ],
   "source": [
    "df.head()"
   ]
  },
  {
   "cell_type": "code",
   "execution_count": 4,
   "id": "0338b911-fe98-4c76-9c65-071aaf66aba4",
   "metadata": {},
   "outputs": [],
   "source": [
    "df = df[['Adj. Open','Adj. High','Adj. Low','Adj. Close','Adj. Volume']]"
   ]
  },
  {
   "cell_type": "code",
   "execution_count": 5,
   "id": "2b7e6b76-e535-4362-9c7a-3af5349a1b83",
   "metadata": {},
   "outputs": [],
   "source": [
    "df['HL_PCT'] = (df['Adj. High'] - df['Adj. Close']) / df['Adj. Close']"
   ]
  },
  {
   "cell_type": "code",
   "execution_count": 6,
   "id": "33f502d1-7813-4286-a1e3-93b721c910ae",
   "metadata": {},
   "outputs": [],
   "source": [
    "df['PCT_Change'] = (df['Adj. Close'] - df['Adj. Open']) / df['Adj. Open']"
   ]
  },
  {
   "cell_type": "code",
   "execution_count": 7,
   "id": "f78bbf17-cd8b-4b87-8a43-ea82c0f3807b",
   "metadata": {},
   "outputs": [],
   "source": [
    "df = df[['Adj. Close','HL_PCT','PCT_Change','Adj. Volume']]"
   ]
  },
  {
   "cell_type": "code",
   "execution_count": 8,
   "id": "e22817a0-b943-484b-9f17-110370f75d35",
   "metadata": {},
   "outputs": [
    {
     "data": {
      "text/html": [
       "<div>\n",
       "<style scoped>\n",
       "    .dataframe tbody tr th:only-of-type {\n",
       "        vertical-align: middle;\n",
       "    }\n",
       "\n",
       "    .dataframe tbody tr th {\n",
       "        vertical-align: top;\n",
       "    }\n",
       "\n",
       "    .dataframe thead th {\n",
       "        text-align: right;\n",
       "    }\n",
       "</style>\n",
       "<table border=\"1\" class=\"dataframe\">\n",
       "  <thead>\n",
       "    <tr style=\"text-align: right;\">\n",
       "      <th></th>\n",
       "      <th>Adj. Close</th>\n",
       "      <th>HL_PCT</th>\n",
       "      <th>PCT_Change</th>\n",
       "      <th>Adj. Volume</th>\n",
       "    </tr>\n",
       "    <tr>\n",
       "      <th>Date</th>\n",
       "      <th></th>\n",
       "      <th></th>\n",
       "      <th></th>\n",
       "      <th></th>\n",
       "    </tr>\n",
       "  </thead>\n",
       "  <tbody>\n",
       "    <tr>\n",
       "      <th>2004-08-19</th>\n",
       "      <td>50.322842</td>\n",
       "      <td>0.037126</td>\n",
       "      <td>0.003250</td>\n",
       "      <td>44659000.0</td>\n",
       "    </tr>\n",
       "    <tr>\n",
       "      <th>2004-08-20</th>\n",
       "      <td>54.322689</td>\n",
       "      <td>0.007109</td>\n",
       "      <td>0.072270</td>\n",
       "      <td>22834300.0</td>\n",
       "    </tr>\n",
       "    <tr>\n",
       "      <th>2004-08-23</th>\n",
       "      <td>54.869377</td>\n",
       "      <td>0.037294</td>\n",
       "      <td>-0.012279</td>\n",
       "      <td>18256100.0</td>\n",
       "    </tr>\n",
       "    <tr>\n",
       "      <th>2004-08-24</th>\n",
       "      <td>52.597363</td>\n",
       "      <td>0.064175</td>\n",
       "      <td>-0.057264</td>\n",
       "      <td>15247300.0</td>\n",
       "    </tr>\n",
       "    <tr>\n",
       "      <th>2004-08-25</th>\n",
       "      <td>53.164113</td>\n",
       "      <td>0.018868</td>\n",
       "      <td>0.011837</td>\n",
       "      <td>9188600.0</td>\n",
       "    </tr>\n",
       "  </tbody>\n",
       "</table>\n",
       "</div>"
      ],
      "text/plain": [
       "            Adj. Close    HL_PCT  PCT_Change  Adj. Volume\n",
       "Date                                                     \n",
       "2004-08-19   50.322842  0.037126    0.003250   44659000.0\n",
       "2004-08-20   54.322689  0.007109    0.072270   22834300.0\n",
       "2004-08-23   54.869377  0.037294   -0.012279   18256100.0\n",
       "2004-08-24   52.597363  0.064175   -0.057264   15247300.0\n",
       "2004-08-25   53.164113  0.018868    0.011837    9188600.0"
      ]
     },
     "execution_count": 8,
     "metadata": {},
     "output_type": "execute_result"
    }
   ],
   "source": [
    "df.head()"
   ]
  },
  {
   "cell_type": "code",
   "execution_count": 9,
   "id": "09fd4232-5db0-456c-86ee-a0fb9c6333be",
   "metadata": {},
   "outputs": [],
   "source": [
    "forecast_col = 'Adj. Close'"
   ]
  },
  {
   "cell_type": "code",
   "execution_count": 10,
   "id": "e9ceb4b8-92bf-432d-873d-2d4a5ae01839",
   "metadata": {},
   "outputs": [],
   "source": [
    "df.fillna(-99999, inplace = True)"
   ]
  },
  {
   "cell_type": "code",
   "execution_count": 11,
   "id": "e95f7e90-ec69-4e86-ad60-339428875163",
   "metadata": {},
   "outputs": [],
   "source": [
    "forecast_out = int(math.ceil(0.01 * len(df)))"
   ]
  },
  {
   "cell_type": "code",
   "execution_count": 12,
   "id": "fe9a06bf-f362-443e-a9aa-b42e3b39d0ed",
   "metadata": {},
   "outputs": [],
   "source": [
    "df['label'] = df[forecast_col].shift(-forecast_out)"
   ]
  },
  {
   "cell_type": "code",
   "execution_count": 13,
   "id": "f9a615b7-6235-4fc4-ac8f-df9e9909b784",
   "metadata": {},
   "outputs": [],
   "source": [
    "df.dropna(inplace = True)"
   ]
  },
  {
   "cell_type": "code",
   "execution_count": 14,
   "id": "d8c3c021-55cc-4b2c-b074-8201ce8a06aa",
   "metadata": {},
   "outputs": [
    {
     "data": {
      "text/html": [
       "<div>\n",
       "<style scoped>\n",
       "    .dataframe tbody tr th:only-of-type {\n",
       "        vertical-align: middle;\n",
       "    }\n",
       "\n",
       "    .dataframe tbody tr th {\n",
       "        vertical-align: top;\n",
       "    }\n",
       "\n",
       "    .dataframe thead th {\n",
       "        text-align: right;\n",
       "    }\n",
       "</style>\n",
       "<table border=\"1\" class=\"dataframe\">\n",
       "  <thead>\n",
       "    <tr style=\"text-align: right;\">\n",
       "      <th></th>\n",
       "      <th>Adj. Close</th>\n",
       "      <th>HL_PCT</th>\n",
       "      <th>PCT_Change</th>\n",
       "      <th>Adj. Volume</th>\n",
       "      <th>label</th>\n",
       "    </tr>\n",
       "    <tr>\n",
       "      <th>Date</th>\n",
       "      <th></th>\n",
       "      <th></th>\n",
       "      <th></th>\n",
       "      <th></th>\n",
       "      <th></th>\n",
       "    </tr>\n",
       "  </thead>\n",
       "  <tbody>\n",
       "    <tr>\n",
       "      <th>2004-08-19</th>\n",
       "      <td>50.322842</td>\n",
       "      <td>0.037126</td>\n",
       "      <td>0.003250</td>\n",
       "      <td>44659000.0</td>\n",
       "      <td>69.078238</td>\n",
       "    </tr>\n",
       "    <tr>\n",
       "      <th>2004-08-20</th>\n",
       "      <td>54.322689</td>\n",
       "      <td>0.007109</td>\n",
       "      <td>0.072270</td>\n",
       "      <td>22834300.0</td>\n",
       "      <td>67.839414</td>\n",
       "    </tr>\n",
       "    <tr>\n",
       "      <th>2004-08-23</th>\n",
       "      <td>54.869377</td>\n",
       "      <td>0.037294</td>\n",
       "      <td>-0.012279</td>\n",
       "      <td>18256100.0</td>\n",
       "      <td>68.912727</td>\n",
       "    </tr>\n",
       "    <tr>\n",
       "      <th>2004-08-24</th>\n",
       "      <td>52.597363</td>\n",
       "      <td>0.064175</td>\n",
       "      <td>-0.057264</td>\n",
       "      <td>15247300.0</td>\n",
       "      <td>70.668146</td>\n",
       "    </tr>\n",
       "    <tr>\n",
       "      <th>2004-08-25</th>\n",
       "      <td>53.164113</td>\n",
       "      <td>0.018868</td>\n",
       "      <td>0.011837</td>\n",
       "      <td>9188600.0</td>\n",
       "      <td>71.219849</td>\n",
       "    </tr>\n",
       "  </tbody>\n",
       "</table>\n",
       "</div>"
      ],
      "text/plain": [
       "            Adj. Close    HL_PCT  PCT_Change  Adj. Volume      label\n",
       "Date                                                                \n",
       "2004-08-19   50.322842  0.037126    0.003250   44659000.0  69.078238\n",
       "2004-08-20   54.322689  0.007109    0.072270   22834300.0  67.839414\n",
       "2004-08-23   54.869377  0.037294   -0.012279   18256100.0  68.912727\n",
       "2004-08-24   52.597363  0.064175   -0.057264   15247300.0  70.668146\n",
       "2004-08-25   53.164113  0.018868    0.011837    9188600.0  71.219849"
      ]
     },
     "execution_count": 14,
     "metadata": {},
     "output_type": "execute_result"
    }
   ],
   "source": [
    "df.head()"
   ]
  },
  {
   "cell_type": "code",
   "execution_count": 15,
   "id": "f4321595-ff3c-4730-9a73-dfec0c8a7f21",
   "metadata": {},
   "outputs": [
    {
     "data": {
      "text/html": [
       "<div>\n",
       "<style scoped>\n",
       "    .dataframe tbody tr th:only-of-type {\n",
       "        vertical-align: middle;\n",
       "    }\n",
       "\n",
       "    .dataframe tbody tr th {\n",
       "        vertical-align: top;\n",
       "    }\n",
       "\n",
       "    .dataframe thead th {\n",
       "        text-align: right;\n",
       "    }\n",
       "</style>\n",
       "<table border=\"1\" class=\"dataframe\">\n",
       "  <thead>\n",
       "    <tr style=\"text-align: right;\">\n",
       "      <th></th>\n",
       "      <th>Adj. Close</th>\n",
       "      <th>HL_PCT</th>\n",
       "      <th>PCT_Change</th>\n",
       "      <th>Adj. Volume</th>\n",
       "      <th>label</th>\n",
       "    </tr>\n",
       "    <tr>\n",
       "      <th>Date</th>\n",
       "      <th></th>\n",
       "      <th></th>\n",
       "      <th></th>\n",
       "      <th></th>\n",
       "      <th></th>\n",
       "    </tr>\n",
       "  </thead>\n",
       "  <tbody>\n",
       "    <tr>\n",
       "      <th>2004-08-19</th>\n",
       "      <td>50.322842</td>\n",
       "      <td>0.037126</td>\n",
       "      <td>0.003250</td>\n",
       "      <td>44659000.0</td>\n",
       "      <td>69.078238</td>\n",
       "    </tr>\n",
       "    <tr>\n",
       "      <th>2004-08-20</th>\n",
       "      <td>54.322689</td>\n",
       "      <td>0.007109</td>\n",
       "      <td>0.072270</td>\n",
       "      <td>22834300.0</td>\n",
       "      <td>67.839414</td>\n",
       "    </tr>\n",
       "    <tr>\n",
       "      <th>2004-08-23</th>\n",
       "      <td>54.869377</td>\n",
       "      <td>0.037294</td>\n",
       "      <td>-0.012279</td>\n",
       "      <td>18256100.0</td>\n",
       "      <td>68.912727</td>\n",
       "    </tr>\n",
       "    <tr>\n",
       "      <th>2004-08-24</th>\n",
       "      <td>52.597363</td>\n",
       "      <td>0.064175</td>\n",
       "      <td>-0.057264</td>\n",
       "      <td>15247300.0</td>\n",
       "      <td>70.668146</td>\n",
       "    </tr>\n",
       "    <tr>\n",
       "      <th>2004-08-25</th>\n",
       "      <td>53.164113</td>\n",
       "      <td>0.018868</td>\n",
       "      <td>0.011837</td>\n",
       "      <td>9188600.0</td>\n",
       "      <td>71.219849</td>\n",
       "    </tr>\n",
       "  </tbody>\n",
       "</table>\n",
       "</div>"
      ],
      "text/plain": [
       "            Adj. Close    HL_PCT  PCT_Change  Adj. Volume      label\n",
       "Date                                                                \n",
       "2004-08-19   50.322842  0.037126    0.003250   44659000.0  69.078238\n",
       "2004-08-20   54.322689  0.007109    0.072270   22834300.0  67.839414\n",
       "2004-08-23   54.869377  0.037294   -0.012279   18256100.0  68.912727\n",
       "2004-08-24   52.597363  0.064175   -0.057264   15247300.0  70.668146\n",
       "2004-08-25   53.164113  0.018868    0.011837    9188600.0  71.219849"
      ]
     },
     "execution_count": 15,
     "metadata": {},
     "output_type": "execute_result"
    }
   ],
   "source": [
    "df.head()"
   ]
  },
  {
   "cell_type": "code",
   "execution_count": 16,
   "id": "dab9abb0-0353-4897-bfc2-87fea9a3ae00",
   "metadata": {},
   "outputs": [],
   "source": [
    "X = df.drop(columns = 'label')"
   ]
  },
  {
   "cell_type": "code",
   "execution_count": 17,
   "id": "da9c0989-28e5-4787-9bb4-dcc5ef11bddd",
   "metadata": {},
   "outputs": [
    {
     "data": {
      "text/html": [
       "<div>\n",
       "<style scoped>\n",
       "    .dataframe tbody tr th:only-of-type {\n",
       "        vertical-align: middle;\n",
       "    }\n",
       "\n",
       "    .dataframe tbody tr th {\n",
       "        vertical-align: top;\n",
       "    }\n",
       "\n",
       "    .dataframe thead th {\n",
       "        text-align: right;\n",
       "    }\n",
       "</style>\n",
       "<table border=\"1\" class=\"dataframe\">\n",
       "  <thead>\n",
       "    <tr style=\"text-align: right;\">\n",
       "      <th></th>\n",
       "      <th>Adj. Close</th>\n",
       "      <th>HL_PCT</th>\n",
       "      <th>PCT_Change</th>\n",
       "      <th>Adj. Volume</th>\n",
       "    </tr>\n",
       "    <tr>\n",
       "      <th>Date</th>\n",
       "      <th></th>\n",
       "      <th></th>\n",
       "      <th></th>\n",
       "      <th></th>\n",
       "    </tr>\n",
       "  </thead>\n",
       "  <tbody>\n",
       "    <tr>\n",
       "      <th>2004-08-19</th>\n",
       "      <td>50.322842</td>\n",
       "      <td>0.037126</td>\n",
       "      <td>0.003250</td>\n",
       "      <td>44659000.0</td>\n",
       "    </tr>\n",
       "    <tr>\n",
       "      <th>2004-08-20</th>\n",
       "      <td>54.322689</td>\n",
       "      <td>0.007109</td>\n",
       "      <td>0.072270</td>\n",
       "      <td>22834300.0</td>\n",
       "    </tr>\n",
       "    <tr>\n",
       "      <th>2004-08-23</th>\n",
       "      <td>54.869377</td>\n",
       "      <td>0.037294</td>\n",
       "      <td>-0.012279</td>\n",
       "      <td>18256100.0</td>\n",
       "    </tr>\n",
       "    <tr>\n",
       "      <th>2004-08-24</th>\n",
       "      <td>52.597363</td>\n",
       "      <td>0.064175</td>\n",
       "      <td>-0.057264</td>\n",
       "      <td>15247300.0</td>\n",
       "    </tr>\n",
       "    <tr>\n",
       "      <th>2004-08-25</th>\n",
       "      <td>53.164113</td>\n",
       "      <td>0.018868</td>\n",
       "      <td>0.011837</td>\n",
       "      <td>9188600.0</td>\n",
       "    </tr>\n",
       "    <tr>\n",
       "      <th>...</th>\n",
       "      <td>...</td>\n",
       "      <td>...</td>\n",
       "      <td>...</td>\n",
       "      <td>...</td>\n",
       "    </tr>\n",
       "    <tr>\n",
       "      <th>2018-01-30</th>\n",
       "      <td>1177.370000</td>\n",
       "      <td>0.008969</td>\n",
       "      <td>-0.000297</td>\n",
       "      <td>1792602.0</td>\n",
       "    </tr>\n",
       "    <tr>\n",
       "      <th>2018-01-31</th>\n",
       "      <td>1182.220000</td>\n",
       "      <td>0.003468</td>\n",
       "      <td>-0.001343</td>\n",
       "      <td>1643877.0</td>\n",
       "    </tr>\n",
       "    <tr>\n",
       "      <th>2018-02-01</th>\n",
       "      <td>1181.590000</td>\n",
       "      <td>0.004959</td>\n",
       "      <td>0.004762</td>\n",
       "      <td>2774967.0</td>\n",
       "    </tr>\n",
       "    <tr>\n",
       "      <th>2018-02-02</th>\n",
       "      <td>1119.200000</td>\n",
       "      <td>0.010811</td>\n",
       "      <td>-0.007291</td>\n",
       "      <td>5798880.0</td>\n",
       "    </tr>\n",
       "    <tr>\n",
       "      <th>2018-02-05</th>\n",
       "      <td>1068.760000</td>\n",
       "      <td>0.043256</td>\n",
       "      <td>-0.028938</td>\n",
       "      <td>3742469.0</td>\n",
       "    </tr>\n",
       "  </tbody>\n",
       "</table>\n",
       "<p>3389 rows × 4 columns</p>\n",
       "</div>"
      ],
      "text/plain": [
       "             Adj. Close    HL_PCT  PCT_Change  Adj. Volume\n",
       "Date                                                      \n",
       "2004-08-19    50.322842  0.037126    0.003250   44659000.0\n",
       "2004-08-20    54.322689  0.007109    0.072270   22834300.0\n",
       "2004-08-23    54.869377  0.037294   -0.012279   18256100.0\n",
       "2004-08-24    52.597363  0.064175   -0.057264   15247300.0\n",
       "2004-08-25    53.164113  0.018868    0.011837    9188600.0\n",
       "...                 ...       ...         ...          ...\n",
       "2018-01-30  1177.370000  0.008969   -0.000297    1792602.0\n",
       "2018-01-31  1182.220000  0.003468   -0.001343    1643877.0\n",
       "2018-02-01  1181.590000  0.004959    0.004762    2774967.0\n",
       "2018-02-02  1119.200000  0.010811   -0.007291    5798880.0\n",
       "2018-02-05  1068.760000  0.043256   -0.028938    3742469.0\n",
       "\n",
       "[3389 rows x 4 columns]"
      ]
     },
     "execution_count": 17,
     "metadata": {},
     "output_type": "execute_result"
    }
   ],
   "source": [
    "X"
   ]
  },
  {
   "cell_type": "code",
   "execution_count": 18,
   "id": "7b1f20bc-0b53-449b-8664-d00f2a623281",
   "metadata": {},
   "outputs": [],
   "source": [
    "y = df['label']"
   ]
  },
  {
   "cell_type": "code",
   "execution_count": 19,
   "id": "42480e3a-138c-4ecd-ac3c-5a2aec753829",
   "metadata": {},
   "outputs": [
    {
     "data": {
      "text/plain": [
       "Date\n",
       "2004-08-19      69.078238\n",
       "2004-08-20      67.839414\n",
       "2004-08-23      68.912727\n",
       "2004-08-24      70.668146\n",
       "2004-08-25      71.219849\n",
       "                 ...     \n",
       "2018-01-30    1094.000000\n",
       "2018-01-31    1053.150000\n",
       "2018-02-01    1026.550000\n",
       "2018-02-02    1054.090000\n",
       "2018-02-05    1006.940000\n",
       "Name: label, Length: 3389, dtype: float64"
      ]
     },
     "execution_count": 19,
     "metadata": {},
     "output_type": "execute_result"
    }
   ],
   "source": [
    "y"
   ]
  },
  {
   "cell_type": "code",
   "execution_count": 20,
   "id": "a3c1c8bb-47cd-415e-9d52-5ca5de66e13b",
   "metadata": {},
   "outputs": [],
   "source": [
    "X_train, X_test, y_train, y_test = train_test_split(X, y, test_size = 0.2)"
   ]
  },
  {
   "cell_type": "code",
   "execution_count": 21,
   "id": "9a4c688e-06c7-4535-9712-e1dee7596aed",
   "metadata": {},
   "outputs": [],
   "source": [
    "model = LinearRegression()"
   ]
  },
  {
   "cell_type": "code",
   "execution_count": 22,
   "id": "9266b753-70e4-40a9-88d0-3cfb50bd651e",
   "metadata": {},
   "outputs": [
    {
     "data": {
      "text/plain": [
       "LinearRegression()"
      ]
     },
     "execution_count": 22,
     "metadata": {},
     "output_type": "execute_result"
    }
   ],
   "source": [
    "model.fit(X_train, y_train)"
   ]
  },
  {
   "cell_type": "code",
   "execution_count": 23,
   "id": "fe82772e-d705-40be-b852-433a4026e264",
   "metadata": {},
   "outputs": [],
   "source": [
    "accuracy = model.score(X_test, y_test)"
   ]
  },
  {
   "cell_type": "code",
   "execution_count": 24,
   "id": "bbf92c78-3444-4570-86b3-6b2616d6fa70",
   "metadata": {},
   "outputs": [],
   "source": [
    "X = X[:-forecast_out]"
   ]
  },
  {
   "cell_type": "code",
   "execution_count": 25,
   "id": "de9f2665-c9b9-48ad-9dec-1f6090b459f8",
   "metadata": {},
   "outputs": [],
   "source": [
    "X_lately = X[-forecast_out:]"
   ]
  },
  {
   "cell_type": "code",
   "execution_count": 26,
   "id": "56c099b8-2eea-44f8-b192-f63e610d0080",
   "metadata": {},
   "outputs": [],
   "source": [
    "pred_score = model.predict(X_lately)"
   ]
  },
  {
   "cell_type": "code",
   "execution_count": 27,
   "id": "7fc09f14-3de2-4cb1-9cac-142ca1f554cc",
   "metadata": {},
   "outputs": [
    {
     "name": "stdout",
     "output_type": "stream",
     "text": [
      "[1009.5277875  1011.917896   1009.90612581 1048.25568841 1053.13049305\n",
      " 1053.232003   1062.92154415 1064.27013592 1071.47181185 1063.12678801\n",
      " 1074.10025306 1068.95482665 1065.70392676 1061.73592226 1063.32397952\n",
      " 1057.6888105  1069.37160721 1055.49054285 1055.91612224 1071.83221547\n",
      " 1073.41049537 1077.95325681 1093.24919647 1082.65288616 1055.55944961\n",
      " 1056.37831277 1044.49536594 1030.19185461 1037.20771462 1052.30521087\n",
      " 1065.18512748 1070.08264656 1073.23807443 1068.0389371  1072.63428386] 0.9786164228791179 35\n"
     ]
    }
   ],
   "source": [
    "print(pred_score, accuracy, forecast_out)"
   ]
  },
  {
   "cell_type": "code",
   "execution_count": null,
   "id": "86e5bf08-2422-4487-b203-08e3f9dfa9b9",
   "metadata": {},
   "outputs": [],
   "source": []
  },
  {
   "cell_type": "code",
   "execution_count": 28,
   "id": "77984c64-543b-4085-9bfd-d322e560652d",
   "metadata": {},
   "outputs": [
    {
     "data": {
      "text/plain": [
       "['wiki_googl.joblib']"
      ]
     },
     "execution_count": 28,
     "metadata": {},
     "output_type": "execute_result"
    }
   ],
   "source": [
    "joblib.dump(model, 'wiki_googl.joblib')"
   ]
  },
  {
   "cell_type": "code",
   "execution_count": 29,
   "id": "8e40f477-1664-45b2-a65a-e9086e30d658",
   "metadata": {},
   "outputs": [],
   "source": [
    "model = joblib.load('wiki_googl.joblib')"
   ]
  },
  {
   "cell_type": "code",
   "execution_count": 30,
   "id": "b4c5c07a-9c4a-4931-bc21-8fbca171df84",
   "metadata": {},
   "outputs": [],
   "source": [
    "predictions = open('wiki_googl.joblib')"
   ]
  },
  {
   "cell_type": "code",
   "execution_count": 31,
   "id": "25977a04-d9db-461f-ada2-e0168589e2a1",
   "metadata": {},
   "outputs": [
    {
     "name": "stdout",
     "output_type": "stream",
     "text": [
      "LinearRegression()\n"
     ]
    }
   ],
   "source": [
    "print(model)"
   ]
  },
  {
   "cell_type": "code",
   "execution_count": null,
   "id": "100decfe-cf42-4e25-a40d-9e06617301b2",
   "metadata": {},
   "outputs": [],
   "source": []
  },
  {
   "cell_type": "code",
   "execution_count": null,
   "id": "4fd4c21d-b3c0-4f79-8499-3d9f72f71e85",
   "metadata": {},
   "outputs": [],
   "source": []
  },
  {
   "cell_type": "code",
   "execution_count": 32,
   "id": "af68e94c-5c40-4a6b-9ba1-df08223e697e",
   "metadata": {},
   "outputs": [],
   "source": [
    "#  "
   ]
  },
  {
   "cell_type": "code",
   "execution_count": 33,
   "id": "717089c4-9fc1-4f14-ba1c-fd526ac9c6b7",
   "metadata": {},
   "outputs": [],
   "source": [
    "import numpy as np\n",
    "from statistics import mean\n",
    "import matplotlib.pyplot as plt\n",
    "from matplotlib import style\n",
    "import random"
   ]
  },
  {
   "cell_type": "code",
   "execution_count": 34,
   "id": "51fb983d-b63b-4b4f-9f33-55f2894cf4d4",
   "metadata": {},
   "outputs": [],
   "source": [
    "style.use('fivethirtyeight')"
   ]
  },
  {
   "cell_type": "code",
   "execution_count": 35,
   "id": "a2dcb7be-b356-405b-9dfe-9410d0c2daf3",
   "metadata": {},
   "outputs": [],
   "source": [
    "# x = np.array([1,2,3,4,5,6], dtype = float)"
   ]
  },
  {
   "cell_type": "code",
   "execution_count": 36,
   "id": "f4be0abb-60be-4fd1-bd71-58527cda8e1f",
   "metadata": {},
   "outputs": [],
   "source": [
    "# y = np.array([3,6,4,7,8,2], dtype = float)"
   ]
  },
  {
   "cell_type": "code",
   "execution_count": 37,
   "id": "e6ccdd4a-651f-46ce-b8ac-a70098681844",
   "metadata": {},
   "outputs": [],
   "source": [
    "def create_dataset(hm, variance, step = 2, correlation = False):\n",
    "    val = 1\n",
    "    y = []\n",
    "    for i in range(hm):\n",
    "        y1 = val + random.randrange(-variance, variance)\n",
    "        y.append(y1)\n",
    "        if correlation and correlation == 'pos':\n",
    "            val += step\n",
    "        elif correlation and correlation == 'neg':\n",
    "            val -= step\n",
    "        \n",
    "    x = [i for i in range(len(y))]\n",
    "    return np.array(x, dtype = np.float), np.array(y, dtype = np.float)"
   ]
  },
  {
   "cell_type": "code",
   "execution_count": null,
   "id": "0a570744-10b4-4d87-ad82-e0d61e3e3605",
   "metadata": {},
   "outputs": [],
   "source": []
  },
  {
   "cell_type": "code",
   "execution_count": null,
   "id": "8b62d811-6f39-4e48-b04c-7bee5744d287",
   "metadata": {},
   "outputs": [],
   "source": []
  },
  {
   "cell_type": "code",
   "execution_count": 38,
   "id": "de3bb903-e119-4c5d-aea8-ba082cbb2dba",
   "metadata": {},
   "outputs": [],
   "source": [
    "#  best fit slope = mean(x)*mean(y) - mean(x*y) / mean(x)**2 - mean(x**2)"
   ]
  },
  {
   "cell_type": "code",
   "execution_count": 39,
   "id": "ced2ee25-a5fb-456a-9fee-57a943381e9a",
   "metadata": {},
   "outputs": [],
   "source": [
    "def best_fit_slope(x,y):\n",
    "    m = ( ((mean(x)*mean(y)) - mean(x*y)) /\n",
    "           (mean(x)**2 - mean(x**2)) )\n",
    "    return m"
   ]
  },
  {
   "cell_type": "code",
   "execution_count": 40,
   "id": "d994608b-0a13-4371-b362-6d01b8bf1322",
   "metadata": {},
   "outputs": [
    {
     "ename": "NameError",
     "evalue": "name 'x' is not defined",
     "output_type": "error",
     "traceback": [
      "\u001b[0;31m---------------------------------------------------------------------------\u001b[0m",
      "\u001b[0;31mNameError\u001b[0m                                 Traceback (most recent call last)",
      "\u001b[0;32m/tmp/ipykernel_16669/551775339.py\u001b[0m in \u001b[0;36m<module>\u001b[0;34m\u001b[0m\n\u001b[0;32m----> 1\u001b[0;31m \u001b[0mm\u001b[0m \u001b[0;34m=\u001b[0m \u001b[0mbest_fit_slope\u001b[0m\u001b[0;34m(\u001b[0m\u001b[0mx\u001b[0m\u001b[0;34m,\u001b[0m \u001b[0my\u001b[0m\u001b[0;34m)\u001b[0m\u001b[0;34m\u001b[0m\u001b[0;34m\u001b[0m\u001b[0m\n\u001b[0m",
      "\u001b[0;31mNameError\u001b[0m: name 'x' is not defined"
     ]
    }
   ],
   "source": [
    "m = best_fit_slope(x, y)"
   ]
  },
  {
   "cell_type": "code",
   "execution_count": null,
   "id": "dd85feda-13de-408f-a04a-5efbb3be42ff",
   "metadata": {},
   "outputs": [],
   "source": [
    "m"
   ]
  },
  {
   "cell_type": "code",
   "execution_count": null,
   "id": "0364b699-0f83-40a2-b8b9-10eefc23331a",
   "metadata": {},
   "outputs": [],
   "source": [
    "# best fit line : b = mean(y) - m(mean(x))"
   ]
  },
  {
   "cell_type": "code",
   "execution_count": null,
   "id": "6500c375-4968-432d-9ca6-4b8932be3a55",
   "metadata": {},
   "outputs": [],
   "source": [
    "x"
   ]
  },
  {
   "cell_type": "code",
   "execution_count": null,
   "id": "9f726fe0-b135-4405-8604-0c58f44614ff",
   "metadata": {},
   "outputs": [],
   "source": [
    "def best_fit_slope_and_intercept(x,y):\n",
    "    m = ( ((mean(x)*mean(y)) - mean(x*y)) /\n",
    "           (mean(x)**2 - mean(x**2)) )\n",
    "    \n",
    "    b = (mean(y) - m*mean(x))\n",
    "    \n",
    "    return m, b"
   ]
  },
  {
   "cell_type": "code",
   "execution_count": null,
   "id": "40077d55-905b-4fb0-8a09-39de42a0bda8",
   "metadata": {},
   "outputs": [],
   "source": []
  },
  {
   "cell_type": "code",
   "execution_count": null,
   "id": "f92e9bdf-2424-4eaa-94d8-a1d5147e54a5",
   "metadata": {},
   "outputs": [],
   "source": [
    "x, y = create_dataset(40, 10, 2, correlation = 'pos')"
   ]
  },
  {
   "cell_type": "code",
   "execution_count": null,
   "id": "33f26263-70da-46e2-ac1c-c738f195d38c",
   "metadata": {},
   "outputs": [],
   "source": []
  },
  {
   "cell_type": "code",
   "execution_count": null,
   "id": "360979a3-c14b-4332-a3d1-cd7aaa74c6f3",
   "metadata": {},
   "outputs": [],
   "source": [
    "m, b = best_fit_slope_and_intercept(x,y)"
   ]
  },
  {
   "cell_type": "code",
   "execution_count": null,
   "id": "a0452aaa-a9e7-42dc-b4b6-ad465a59567c",
   "metadata": {},
   "outputs": [],
   "source": [
    "m,b"
   ]
  },
  {
   "cell_type": "code",
   "execution_count": null,
   "id": "052ea47c-b4de-4991-9bee-6a6e1af5ddf4",
   "metadata": {},
   "outputs": [],
   "source": [
    "regression_line = [(m*x1)+b for x1 in x]"
   ]
  },
  {
   "cell_type": "code",
   "execution_count": null,
   "id": "e35d93ae-00ab-44f5-9946-47b856369d89",
   "metadata": {},
   "outputs": [],
   "source": [
    "plt.scatter(x,y)\n",
    "plt.plot(x, regression_line)"
   ]
  },
  {
   "cell_type": "code",
   "execution_count": null,
   "id": "be6ba98c-8784-4f37-b5ef-7733f3229ce7",
   "metadata": {},
   "outputs": [],
   "source": []
  },
  {
   "cell_type": "code",
   "execution_count": null,
   "id": "f04eef3a-01b0-4bb7-b84d-cf6eb86d7637",
   "metadata": {},
   "outputs": [],
   "source": [
    "# R Squared : r^2 = 1 - RSS / TSS"
   ]
  },
  {
   "cell_type": "code",
   "execution_count": null,
   "id": "7dc2f0b7-2211-473b-a985-2b921eea90bc",
   "metadata": {},
   "outputs": [],
   "source": [
    "def squared_error(y_orig, y_line):\n",
    "    return sum((y_orig - y_line)**2)"
   ]
  },
  {
   "cell_type": "code",
   "execution_count": null,
   "id": "bef99879-924b-4b95-a165-eb298155cd2e",
   "metadata": {},
   "outputs": [],
   "source": [
    "def coefficient_of_determination(y_orig, y_line):\n",
    "    y_mean_line = [mean(y_orig) for y1 in y_orig]\n",
    "    squared_error_regr = squared_error(y_orig, y_line)\n",
    "    squared_error_y_mean = squared_error(y_orig, y_mean_line)\n",
    "    return 1 - (squared_error_regr / squared_error_y_mean)"
   ]
  },
  {
   "cell_type": "code",
   "execution_count": null,
   "id": "3147efcc-48be-4097-a85e-3fa5e211567d",
   "metadata": {},
   "outputs": [],
   "source": [
    "r_squared = coefficient_of_determination(y, regression_line)"
   ]
  },
  {
   "cell_type": "code",
   "execution_count": null,
   "id": "48af78a0-a09d-4a60-88af-4d0519006533",
   "metadata": {},
   "outputs": [],
   "source": [
    "r_squared"
   ]
  },
  {
   "cell_type": "code",
   "execution_count": null,
   "id": "cb2de54f-109f-4c03-85e8-6a41810099a9",
   "metadata": {},
   "outputs": [],
   "source": []
  },
  {
   "cell_type": "code",
   "execution_count": null,
   "id": "696f8853-e641-4177-8854-f9e5cc197297",
   "metadata": {},
   "outputs": [],
   "source": []
  },
  {
   "cell_type": "code",
   "execution_count": null,
   "id": "946f1083-e078-451d-b704-72e7d79c9c54",
   "metadata": {},
   "outputs": [],
   "source": [
    "# K - Nearest Neighbors (KNN)"
   ]
  },
  {
   "cell_type": "code",
   "execution_count": null,
   "id": "b1bb18f7-8b49-4707-8bcc-d00f5841662e",
   "metadata": {},
   "outputs": [],
   "source": [
    "import numpy as np\n",
    "import pandas as pd\n",
    "from sklearn import preprocessing, neighbors\n",
    "from sklearn.model_selection import train_test_split\n",
    "from sklearn.metrics import accuracy_score"
   ]
  },
  {
   "cell_type": "code",
   "execution_count": null,
   "id": "4f494049-52ba-4e16-bb0b-777b985a8782",
   "metadata": {},
   "outputs": [],
   "source": [
    "df = pd.read_csv('breast-cancer-wisconsin.data')"
   ]
  },
  {
   "cell_type": "code",
   "execution_count": null,
   "id": "212d52d1-b304-455d-836a-79f1729b376b",
   "metadata": {},
   "outputs": [],
   "source": [
    "df.tail()"
   ]
  },
  {
   "cell_type": "code",
   "execution_count": null,
   "id": "512eb823-c428-4173-982b-431a6730b406",
   "metadata": {},
   "outputs": [],
   "source": [
    "df.replace('?', -99999, inplace = True)"
   ]
  },
  {
   "cell_type": "code",
   "execution_count": null,
   "id": "d6fa0d5d-525d-42d3-89f3-8feefc3b5215",
   "metadata": {},
   "outputs": [],
   "source": [
    "df.drop('id', 1, inplace = True)"
   ]
  },
  {
   "cell_type": "code",
   "execution_count": null,
   "id": "b4c1c351-9e04-4abe-b823-a240a41dab21",
   "metadata": {},
   "outputs": [],
   "source": [
    "df"
   ]
  },
  {
   "cell_type": "code",
   "execution_count": null,
   "id": "7b65589c-de12-4e90-bfd2-9d3bbb627aa3",
   "metadata": {},
   "outputs": [],
   "source": [
    "df.head()"
   ]
  },
  {
   "cell_type": "code",
   "execution_count": null,
   "id": "88a0a869-64ca-4e7c-82be-b8b1af3de34a",
   "metadata": {},
   "outputs": [],
   "source": [
    "df"
   ]
  },
  {
   "cell_type": "code",
   "execution_count": null,
   "id": "21d14969-e5be-4a0f-aff8-f1bda8a2cb60",
   "metadata": {},
   "outputs": [],
   "source": [
    "df.columns"
   ]
  },
  {
   "cell_type": "code",
   "execution_count": null,
   "id": "cefa3d1f-df52-496f-a0a1-e1331fa845d8",
   "metadata": {},
   "outputs": [],
   "source": [
    "X = df.drop(columns = 'class')"
   ]
  },
  {
   "cell_type": "code",
   "execution_count": null,
   "id": "fe7e7eb6-c6cf-46be-8dcb-fb25bcd2677c",
   "metadata": {},
   "outputs": [],
   "source": [
    "X.head()"
   ]
  },
  {
   "cell_type": "code",
   "execution_count": null,
   "id": "7a835ba0-4436-49f9-9482-3d4b22b21d26",
   "metadata": {},
   "outputs": [],
   "source": [
    "y = df['class']"
   ]
  },
  {
   "cell_type": "code",
   "execution_count": null,
   "id": "dabfb127-04b7-4f39-b7ab-634d76d651af",
   "metadata": {},
   "outputs": [],
   "source": [
    "y.head()"
   ]
  },
  {
   "cell_type": "code",
   "execution_count": null,
   "id": "867f6b1b-729c-4a18-9e1c-ca1216a2711c",
   "metadata": {},
   "outputs": [],
   "source": [
    "X_train, X_test, y_train, y_test = train_test_split(X, y, test_size= 0.2)"
   ]
  },
  {
   "cell_type": "code",
   "execution_count": null,
   "id": "687a6698-dc86-46a2-8349-7f070d2618dd",
   "metadata": {},
   "outputs": [],
   "source": [
    "model = neighbors.KNeighborsClassifier()"
   ]
  },
  {
   "cell_type": "code",
   "execution_count": null,
   "id": "64732752-7d8c-46b4-bebd-1bbc32a92644",
   "metadata": {},
   "outputs": [],
   "source": [
    "model.fit(X_train, y_train)"
   ]
  },
  {
   "cell_type": "code",
   "execution_count": null,
   "id": "28ad8bcb-42bd-4c14-888c-3a9c8157c970",
   "metadata": {},
   "outputs": [],
   "source": [
    "accuracy = model.score(X_test, y_test)"
   ]
  },
  {
   "cell_type": "code",
   "execution_count": null,
   "id": "dd821b32-67d2-4c72-b3a9-d806cb6a13e1",
   "metadata": {},
   "outputs": [],
   "source": [
    "accuracy"
   ]
  },
  {
   "cell_type": "code",
   "execution_count": null,
   "id": "befd81a4-b54b-46f0-8be5-60b7965c9e2f",
   "metadata": {},
   "outputs": [],
   "source": [
    "predictions = model.predict(X_test)"
   ]
  },
  {
   "cell_type": "code",
   "execution_count": null,
   "id": "d2411d5e-e859-4195-ae1c-66edc1c2a955",
   "metadata": {},
   "outputs": [],
   "source": [
    "predictions"
   ]
  },
  {
   "cell_type": "code",
   "execution_count": null,
   "id": "5eb0ad4d-9626-47ee-b2e5-fdf1452baf74",
   "metadata": {},
   "outputs": [],
   "source": [
    "score = accuracy_score(y_test, predictions)"
   ]
  },
  {
   "cell_type": "code",
   "execution_count": null,
   "id": "553afd88-b8ba-41c6-9c8d-7b160c15cedf",
   "metadata": {},
   "outputs": [],
   "source": [
    "score"
   ]
  },
  {
   "cell_type": "code",
   "execution_count": null,
   "id": "e7b88120-1959-4421-bdda-94309561733b",
   "metadata": {},
   "outputs": [],
   "source": [
    "example_measure = np.array([4,3,2,1,1,2,3,2,2])"
   ]
  },
  {
   "cell_type": "code",
   "execution_count": null,
   "id": "935850cb-d7b6-4b9d-9c32-a37b72a72ab9",
   "metadata": {},
   "outputs": [],
   "source": [
    "example_measure = example_measure.reshape(1,-1)"
   ]
  },
  {
   "cell_type": "code",
   "execution_count": null,
   "id": "b3f18c86-ae35-49a3-af5c-e873edf22bf1",
   "metadata": {},
   "outputs": [],
   "source": [
    "predictions = model.predict(example_measure)"
   ]
  },
  {
   "cell_type": "code",
   "execution_count": null,
   "id": "27a58b82-074d-4f7a-8f29-90525f6ce3c7",
   "metadata": {},
   "outputs": [],
   "source": [
    "predictions"
   ]
  },
  {
   "cell_type": "code",
   "execution_count": null,
   "id": "0c4cde43-cc9f-48a1-94e2-81b59ad6ef66",
   "metadata": {},
   "outputs": [],
   "source": [
    "example_measure = np.array([[4,3,2,1,1,2,3,2,2],[4,1,1,2,2,3,2,1,1]])"
   ]
  },
  {
   "cell_type": "code",
   "execution_count": null,
   "id": "c10778f4-d1f1-426f-a9a3-4353c5e94384",
   "metadata": {},
   "outputs": [],
   "source": [
    "example_measure = example_measure.reshape(len(example_measure),-1)"
   ]
  },
  {
   "cell_type": "code",
   "execution_count": null,
   "id": "b5b48ac6-a014-43e3-96b9-5d65be7e84c3",
   "metadata": {},
   "outputs": [],
   "source": [
    "predictions = model.predict(example_measure)"
   ]
  },
  {
   "cell_type": "code",
   "execution_count": null,
   "id": "b39bdf97-0bf1-41af-9292-0d1f0fcdd2c8",
   "metadata": {},
   "outputs": [],
   "source": [
    "predictions"
   ]
  },
  {
   "cell_type": "code",
   "execution_count": null,
   "id": "30d07b76-a970-45b3-8f45-6bdcfe73433b",
   "metadata": {},
   "outputs": [],
   "source": []
  },
  {
   "cell_type": "code",
   "execution_count": null,
   "id": "919caa8e-c95f-475c-8f72-78e3d099d859",
   "metadata": {},
   "outputs": [],
   "source": []
  },
  {
   "cell_type": "code",
   "execution_count": null,
   "id": "ebd04676-facb-45a3-b172-06a9d152b9fa",
   "metadata": {},
   "outputs": [],
   "source": [
    "# Euclidean Distance"
   ]
  },
  {
   "cell_type": "code",
   "execution_count": null,
   "id": "e88df2e9-b496-4916-91b6-cb42af0425ca",
   "metadata": {},
   "outputs": [],
   "source": [
    "from math import sqrt"
   ]
  },
  {
   "cell_type": "code",
   "execution_count": null,
   "id": "8b515e37-69bf-425e-9f8b-095e45fd24c5",
   "metadata": {},
   "outputs": [],
   "source": [
    "plot1 = [1,3]\n",
    "plot2 = [2,5]"
   ]
  },
  {
   "cell_type": "code",
   "execution_count": null,
   "id": "058d3db0-30f3-42b4-92ab-7ce6a549d9fa",
   "metadata": {},
   "outputs": [],
   "source": [
    "euclidean_distance = sqrt( (plot1[0]-plot2[0])**2 + (plot1[1]-plot2[1])**2 )"
   ]
  },
  {
   "cell_type": "code",
   "execution_count": null,
   "id": "1016abbc-52cd-4a58-8445-b02bf76beabd",
   "metadata": {},
   "outputs": [],
   "source": [
    "euclidean_distance"
   ]
  },
  {
   "cell_type": "code",
   "execution_count": null,
   "id": "ce3b79cd-4077-42df-a212-df2cda897d26",
   "metadata": {},
   "outputs": [],
   "source": []
  },
  {
   "cell_type": "code",
   "execution_count": null,
   "id": "bb114395-60e2-4da7-89a0-e257eaf4025f",
   "metadata": {},
   "outputs": [],
   "source": [
    "# Creating KNN algorithm"
   ]
  },
  {
   "cell_type": "code",
   "execution_count": null,
   "id": "86d7dcf9-3cc7-46db-842a-016e79df34fb",
   "metadata": {},
   "outputs": [],
   "source": [
    "import numpy as np\n",
    "from math import sqrt\n",
    "import matplotlib.pyplot as plt\n",
    "import warnings\n",
    "from matplotlib import style\n",
    "from collections import Counter"
   ]
  },
  {
   "cell_type": "code",
   "execution_count": null,
   "id": "7c98f4e1-d53c-4a4f-87b4-5a8b65eae639",
   "metadata": {},
   "outputs": [],
   "source": [
    "style.use('fivethirtyeight')"
   ]
  },
  {
   "cell_type": "code",
   "execution_count": null,
   "id": "1d8e5987-11ba-4eca-9fb3-b20e216c0d13",
   "metadata": {},
   "outputs": [],
   "source": [
    "dataset = {'k':[[1,2],[2,3],[3,1]], \n",
    "          'r':[[6,5],[7,7],[8,6]]}"
   ]
  },
  {
   "cell_type": "code",
   "execution_count": null,
   "id": "d8d13f23-9048-4746-870d-0482d2d86659",
   "metadata": {},
   "outputs": [],
   "source": [
    "new_features = [5,7]"
   ]
  },
  {
   "cell_type": "code",
   "execution_count": null,
   "id": "d57b4d47-7345-4d51-aeac-9348e9c30bba",
   "metadata": {},
   "outputs": [],
   "source": [
    "[[plt.scatter(ii[0], ii[1], s=100, color=i) for ii in dataset[i]] for i in dataset]\n",
    "plt.scatter(new_features[0],new_features[1], s=75)"
   ]
  },
  {
   "cell_type": "code",
   "execution_count": null,
   "id": "360bfc16-e81b-40f0-af73-c34a0e37a3ca",
   "metadata": {},
   "outputs": [],
   "source": [
    "def k_nearest_neighbors(data, predict, k=3):\n",
    "    if len(data) >= k:\n",
    "        warnings.warn('the number is invalid!')\n",
    "    distances = []\n",
    "    \n",
    "    for group in data:\n",
    "        for features in data[group]:\n",
    "            # euclidean_distance = np.sqrt(np.sum((np.array(features)-np.array(predict))**2))\n",
    "            euclidean_distance = np.linalg.norm(np.array(features)-np.array(predict))\n",
    "            distances.append([euclidean_distance, group])\n",
    "            \n",
    "    votes = [i[1] for i in sorted(distances)[:k]]\n",
    "    print(Counter(votes).most_common(1))\n",
    "    vote_result = Counter(votes).most_common(1)[0][0]\n",
    "    \n",
    "    return vote_result"
   ]
  },
  {
   "cell_type": "code",
   "execution_count": null,
   "id": "7d13ed7b-b341-4ad3-99ab-e410af624da6",
   "metadata": {},
   "outputs": [],
   "source": [
    "result = k_nearest_neighbors(dataset, new_features, k=3)"
   ]
  },
  {
   "cell_type": "code",
   "execution_count": null,
   "id": "e9d01cb1-7b0b-4950-87dd-c8cbb9f15f6f",
   "metadata": {},
   "outputs": [],
   "source": [
    "result"
   ]
  },
  {
   "cell_type": "code",
   "execution_count": null,
   "id": "06ed7a20-7ad5-472e-8396-4f1151d044bb",
   "metadata": {},
   "outputs": [],
   "source": []
  },
  {
   "cell_type": "code",
   "execution_count": null,
   "id": "a8ebc5c2-8334-49e4-a69c-9597007e8d30",
   "metadata": {},
   "outputs": [],
   "source": []
  },
  {
   "cell_type": "code",
   "execution_count": null,
   "id": "f9ecad83-33fd-4b34-b242-8432beb2d70b",
   "metadata": {},
   "outputs": [],
   "source": [
    "import numpy as np\n",
    "from math import sqrt\n",
    "import matplotlib.pyplot as plt\n",
    "import warnings\n",
    "from matplotlib import style\n",
    "from collections import Counter\n",
    "import pandas as pd\n",
    "import random"
   ]
  },
  {
   "cell_type": "code",
   "execution_count": null,
   "id": "298eae31-8d4f-4d2f-82aa-16e135d664a9",
   "metadata": {},
   "outputs": [],
   "source": [
    "def k_nearest_neighbors(data, predict, k=3):\n",
    "    if len(data) >= k:\n",
    "        warnings.warn('the number is invalid!')\n",
    "    distances = []\n",
    "    \n",
    "    for group in data:\n",
    "        for features in data[group]:\n",
    "            euclidean_distance = np.linalg.norm(np.array(features)-np.array(predict))\n",
    "            distances.append([euclidean_distance, group])\n",
    "            \n",
    "    votes = [i[1] for i in sorted(distances)[:k]]\n",
    "    # print(Counter(votes).most_common(1))\n",
    "    vote_result = Counter(votes).most_common(1)[0][0]\n",
    "    \n",
    "    return vote_result"
   ]
  },
  {
   "cell_type": "code",
   "execution_count": null,
   "id": "6f5d9c7e-2a91-40fd-889b-c55c93eb7e19",
   "metadata": {},
   "outputs": [],
   "source": [
    "df = pd.read_csv('breast-cancer-wisconsin.data')"
   ]
  },
  {
   "cell_type": "code",
   "execution_count": null,
   "id": "f9ff59e1-b83a-4622-aad2-fb25a8ea5028",
   "metadata": {},
   "outputs": [],
   "source": [
    "df.replace('?', -99999, inplace = True)"
   ]
  },
  {
   "cell_type": "code",
   "execution_count": null,
   "id": "7c1490d2-63a4-4e0a-a8b8-006075b97e3a",
   "metadata": {},
   "outputs": [],
   "source": [
    "df.drop(['id'], 1, inplace = True)"
   ]
  },
  {
   "cell_type": "code",
   "execution_count": null,
   "id": "b6b35c96-3971-48b4-b15b-55e16b3d5e33",
   "metadata": {},
   "outputs": [],
   "source": [
    "full_data = df.astype(float).values.tolist()"
   ]
  },
  {
   "cell_type": "code",
   "execution_count": null,
   "id": "8f141156-c182-40ed-a881-43c23473f0a8",
   "metadata": {},
   "outputs": [],
   "source": [
    "full_data[:10]"
   ]
  },
  {
   "cell_type": "code",
   "execution_count": null,
   "id": "5f31c147-6c22-4fe4-bfb8-50bb557b19b1",
   "metadata": {},
   "outputs": [],
   "source": [
    "random.shuffle(full_data)"
   ]
  },
  {
   "cell_type": "code",
   "execution_count": null,
   "id": "ea0fff37-ffc8-4eea-bbcf-80bc1d2bf940",
   "metadata": {},
   "outputs": [],
   "source": [
    "full_data[:10]"
   ]
  },
  {
   "cell_type": "code",
   "execution_count": null,
   "id": "dc2ea973-5e99-400c-b239-b14c1284548f",
   "metadata": {},
   "outputs": [],
   "source": [
    "test_size = 0.2\n",
    "train_set = {2:[], 4:[]}\n",
    "test_set = {2:[], 4:[]}\n",
    "train_data = full_data[:-int(test_size*len(full_data))]\n",
    "test_data = full_data[-int(test_size*len(full_data)):]"
   ]
  },
  {
   "cell_type": "code",
   "execution_count": null,
   "id": "1c8930fb-1004-4864-9eb4-c7adb89f205d",
   "metadata": {},
   "outputs": [],
   "source": [
    "for i in train_data:\n",
    "    train_set[i[-1]].append(i[:-1])"
   ]
  },
  {
   "cell_type": "code",
   "execution_count": null,
   "id": "db08a318-b6cf-4340-8351-0bc250485623",
   "metadata": {},
   "outputs": [],
   "source": [
    "for i in test_data:\n",
    "    test_set[i[-1]].append(i[:-1])"
   ]
  },
  {
   "cell_type": "code",
   "execution_count": null,
   "id": "cdc1da34-4e82-4f6c-b849-89553ad8a9c7",
   "metadata": {},
   "outputs": [],
   "source": [
    "correct = 0\n",
    "total = 0\n",
    "\n",
    "for group in test_set:\n",
    "    for data in test_set[group]:\n",
    "        vote = k_nearest_neighbors(train_set, data, k=5)\n",
    "        if group == vote:\n",
    "            correct += 1\n",
    "        total += 1 "
   ]
  },
  {
   "cell_type": "code",
   "execution_count": null,
   "id": "a6002b5f-7286-4dd3-9848-cd17a4214fd8",
   "metadata": {},
   "outputs": [],
   "source": [
    "print('Accuracy: ', correct/total)"
   ]
  },
  {
   "cell_type": "code",
   "execution_count": null,
   "id": "56eb5f79-1abc-41af-b2cd-796f971bcf08",
   "metadata": {},
   "outputs": [],
   "source": []
  },
  {
   "cell_type": "code",
   "execution_count": null,
   "id": "472bcf11-da57-40ec-adaf-875d13e4a0ed",
   "metadata": {},
   "outputs": [],
   "source": []
  },
  {
   "cell_type": "code",
   "execution_count": null,
   "id": "2ca764f6-f3a3-4008-b6c1-e4be9e7de30b",
   "metadata": {},
   "outputs": [],
   "source": []
  },
  {
   "cell_type": "code",
   "execution_count": null,
   "id": "58d26686-6ed1-4966-b308-36199566a6a5",
   "metadata": {},
   "outputs": [],
   "source": []
  },
  {
   "cell_type": "code",
   "execution_count": null,
   "id": "0e4379cf-e6c2-4b74-b1b0-5a3259102f69",
   "metadata": {},
   "outputs": [],
   "source": [
    "# Support Vector Machine(SVM)"
   ]
  },
  {
   "cell_type": "code",
   "execution_count": 1,
   "id": "a1e1636a-e4fe-4508-b914-e36a34c60689",
   "metadata": {},
   "outputs": [],
   "source": [
    "import numpy as np\n",
    "import pandas as pd\n",
    "from sklearn import preprocessing, neighbors, svm\n",
    "from sklearn.model_selection import train_test_split\n",
    "from sklearn.metrics import accuracy_score"
   ]
  },
  {
   "cell_type": "code",
   "execution_count": 2,
   "id": "fd80541c-fb10-4ea2-a8dd-0cc9078ad808",
   "metadata": {},
   "outputs": [],
   "source": [
    "df = pd.read_csv('breast-cancer-wisconsin.data')"
   ]
  },
  {
   "cell_type": "code",
   "execution_count": 3,
   "id": "a85dd769-ff1a-4689-b760-c82e462de9e0",
   "metadata": {},
   "outputs": [
    {
     "data": {
      "text/html": [
       "<div>\n",
       "<style scoped>\n",
       "    .dataframe tbody tr th:only-of-type {\n",
       "        vertical-align: middle;\n",
       "    }\n",
       "\n",
       "    .dataframe tbody tr th {\n",
       "        vertical-align: top;\n",
       "    }\n",
       "\n",
       "    .dataframe thead th {\n",
       "        text-align: right;\n",
       "    }\n",
       "</style>\n",
       "<table border=\"1\" class=\"dataframe\">\n",
       "  <thead>\n",
       "    <tr style=\"text-align: right;\">\n",
       "      <th></th>\n",
       "      <th>id</th>\n",
       "      <th>clump_thickness</th>\n",
       "      <th>unif_cell_size</th>\n",
       "      <th>unif_cell_shape</th>\n",
       "      <th>marg_adhesion</th>\n",
       "      <th>single_epith_cell_size</th>\n",
       "      <th>bare_nuclei</th>\n",
       "      <th>bland_chrom</th>\n",
       "      <th>norm_nucleoli</th>\n",
       "      <th>mitoses</th>\n",
       "      <th>class</th>\n",
       "    </tr>\n",
       "  </thead>\n",
       "  <tbody>\n",
       "    <tr>\n",
       "      <th>0</th>\n",
       "      <td>1000025</td>\n",
       "      <td>5</td>\n",
       "      <td>1</td>\n",
       "      <td>1</td>\n",
       "      <td>1</td>\n",
       "      <td>2</td>\n",
       "      <td>1</td>\n",
       "      <td>3</td>\n",
       "      <td>1</td>\n",
       "      <td>1</td>\n",
       "      <td>2</td>\n",
       "    </tr>\n",
       "    <tr>\n",
       "      <th>1</th>\n",
       "      <td>1002945</td>\n",
       "      <td>5</td>\n",
       "      <td>4</td>\n",
       "      <td>4</td>\n",
       "      <td>5</td>\n",
       "      <td>7</td>\n",
       "      <td>10</td>\n",
       "      <td>3</td>\n",
       "      <td>2</td>\n",
       "      <td>1</td>\n",
       "      <td>2</td>\n",
       "    </tr>\n",
       "    <tr>\n",
       "      <th>2</th>\n",
       "      <td>1015425</td>\n",
       "      <td>3</td>\n",
       "      <td>1</td>\n",
       "      <td>1</td>\n",
       "      <td>1</td>\n",
       "      <td>2</td>\n",
       "      <td>2</td>\n",
       "      <td>3</td>\n",
       "      <td>1</td>\n",
       "      <td>1</td>\n",
       "      <td>2</td>\n",
       "    </tr>\n",
       "    <tr>\n",
       "      <th>3</th>\n",
       "      <td>1016277</td>\n",
       "      <td>6</td>\n",
       "      <td>8</td>\n",
       "      <td>8</td>\n",
       "      <td>1</td>\n",
       "      <td>3</td>\n",
       "      <td>4</td>\n",
       "      <td>3</td>\n",
       "      <td>7</td>\n",
       "      <td>1</td>\n",
       "      <td>2</td>\n",
       "    </tr>\n",
       "    <tr>\n",
       "      <th>4</th>\n",
       "      <td>1017023</td>\n",
       "      <td>4</td>\n",
       "      <td>1</td>\n",
       "      <td>1</td>\n",
       "      <td>3</td>\n",
       "      <td>2</td>\n",
       "      <td>1</td>\n",
       "      <td>3</td>\n",
       "      <td>1</td>\n",
       "      <td>1</td>\n",
       "      <td>2</td>\n",
       "    </tr>\n",
       "  </tbody>\n",
       "</table>\n",
       "</div>"
      ],
      "text/plain": [
       "        id  clump_thickness  unif_cell_size  unif_cell_shape  marg_adhesion  \\\n",
       "0  1000025                5               1                1              1   \n",
       "1  1002945                5               4                4              5   \n",
       "2  1015425                3               1                1              1   \n",
       "3  1016277                6               8                8              1   \n",
       "4  1017023                4               1                1              3   \n",
       "\n",
       "   single_epith_cell_size bare_nuclei  bland_chrom  norm_nucleoli  mitoses  \\\n",
       "0                       2           1            3              1        1   \n",
       "1                       7          10            3              2        1   \n",
       "2                       2           2            3              1        1   \n",
       "3                       3           4            3              7        1   \n",
       "4                       2           1            3              1        1   \n",
       "\n",
       "   class  \n",
       "0      2  \n",
       "1      2  \n",
       "2      2  \n",
       "3      2  \n",
       "4      2  "
      ]
     },
     "execution_count": 3,
     "metadata": {},
     "output_type": "execute_result"
    }
   ],
   "source": [
    "df.head()"
   ]
  },
  {
   "cell_type": "code",
   "execution_count": 4,
   "id": "b541b058-4dd8-4253-b79c-f3f7d140b43e",
   "metadata": {},
   "outputs": [],
   "source": [
    "df.replace('?', -99999, inplace=True)"
   ]
  },
  {
   "cell_type": "code",
   "execution_count": 5,
   "id": "6c8e7c0a-6898-4a22-bdde-097da16123e3",
   "metadata": {},
   "outputs": [
    {
     "name": "stderr",
     "output_type": "stream",
     "text": [
      "/tmp/ipykernel_234117/226681529.py:1: FutureWarning: In a future version of pandas all arguments of DataFrame.drop except for the argument 'labels' will be keyword-only.\n",
      "  df.drop('id', 1, inplace=True)\n"
     ]
    }
   ],
   "source": [
    "df.drop('id', 1, inplace=True)"
   ]
  },
  {
   "cell_type": "code",
   "execution_count": 6,
   "id": "7f5a88c7-8097-4ef1-8a60-0420bb2ef9ae",
   "metadata": {},
   "outputs": [
    {
     "data": {
      "text/html": [
       "<div>\n",
       "<style scoped>\n",
       "    .dataframe tbody tr th:only-of-type {\n",
       "        vertical-align: middle;\n",
       "    }\n",
       "\n",
       "    .dataframe tbody tr th {\n",
       "        vertical-align: top;\n",
       "    }\n",
       "\n",
       "    .dataframe thead th {\n",
       "        text-align: right;\n",
       "    }\n",
       "</style>\n",
       "<table border=\"1\" class=\"dataframe\">\n",
       "  <thead>\n",
       "    <tr style=\"text-align: right;\">\n",
       "      <th></th>\n",
       "      <th>clump_thickness</th>\n",
       "      <th>unif_cell_size</th>\n",
       "      <th>unif_cell_shape</th>\n",
       "      <th>marg_adhesion</th>\n",
       "      <th>single_epith_cell_size</th>\n",
       "      <th>bare_nuclei</th>\n",
       "      <th>bland_chrom</th>\n",
       "      <th>norm_nucleoli</th>\n",
       "      <th>mitoses</th>\n",
       "      <th>class</th>\n",
       "    </tr>\n",
       "  </thead>\n",
       "  <tbody>\n",
       "    <tr>\n",
       "      <th>0</th>\n",
       "      <td>5</td>\n",
       "      <td>1</td>\n",
       "      <td>1</td>\n",
       "      <td>1</td>\n",
       "      <td>2</td>\n",
       "      <td>1</td>\n",
       "      <td>3</td>\n",
       "      <td>1</td>\n",
       "      <td>1</td>\n",
       "      <td>2</td>\n",
       "    </tr>\n",
       "    <tr>\n",
       "      <th>1</th>\n",
       "      <td>5</td>\n",
       "      <td>4</td>\n",
       "      <td>4</td>\n",
       "      <td>5</td>\n",
       "      <td>7</td>\n",
       "      <td>10</td>\n",
       "      <td>3</td>\n",
       "      <td>2</td>\n",
       "      <td>1</td>\n",
       "      <td>2</td>\n",
       "    </tr>\n",
       "    <tr>\n",
       "      <th>2</th>\n",
       "      <td>3</td>\n",
       "      <td>1</td>\n",
       "      <td>1</td>\n",
       "      <td>1</td>\n",
       "      <td>2</td>\n",
       "      <td>2</td>\n",
       "      <td>3</td>\n",
       "      <td>1</td>\n",
       "      <td>1</td>\n",
       "      <td>2</td>\n",
       "    </tr>\n",
       "    <tr>\n",
       "      <th>3</th>\n",
       "      <td>6</td>\n",
       "      <td>8</td>\n",
       "      <td>8</td>\n",
       "      <td>1</td>\n",
       "      <td>3</td>\n",
       "      <td>4</td>\n",
       "      <td>3</td>\n",
       "      <td>7</td>\n",
       "      <td>1</td>\n",
       "      <td>2</td>\n",
       "    </tr>\n",
       "    <tr>\n",
       "      <th>4</th>\n",
       "      <td>4</td>\n",
       "      <td>1</td>\n",
       "      <td>1</td>\n",
       "      <td>3</td>\n",
       "      <td>2</td>\n",
       "      <td>1</td>\n",
       "      <td>3</td>\n",
       "      <td>1</td>\n",
       "      <td>1</td>\n",
       "      <td>2</td>\n",
       "    </tr>\n",
       "  </tbody>\n",
       "</table>\n",
       "</div>"
      ],
      "text/plain": [
       "   clump_thickness  unif_cell_size  unif_cell_shape  marg_adhesion  \\\n",
       "0                5               1                1              1   \n",
       "1                5               4                4              5   \n",
       "2                3               1                1              1   \n",
       "3                6               8                8              1   \n",
       "4                4               1                1              3   \n",
       "\n",
       "   single_epith_cell_size bare_nuclei  bland_chrom  norm_nucleoli  mitoses  \\\n",
       "0                       2           1            3              1        1   \n",
       "1                       7          10            3              2        1   \n",
       "2                       2           2            3              1        1   \n",
       "3                       3           4            3              7        1   \n",
       "4                       2           1            3              1        1   \n",
       "\n",
       "   class  \n",
       "0      2  \n",
       "1      2  \n",
       "2      2  \n",
       "3      2  \n",
       "4      2  "
      ]
     },
     "execution_count": 6,
     "metadata": {},
     "output_type": "execute_result"
    }
   ],
   "source": [
    "df.head()"
   ]
  },
  {
   "cell_type": "code",
   "execution_count": 7,
   "id": "1d8c24c3-7e41-40ab-b785-79db29b1cdff",
   "metadata": {},
   "outputs": [
    {
     "name": "stderr",
     "output_type": "stream",
     "text": [
      "/tmp/ipykernel_234117/2444547281.py:1: FutureWarning: In a future version of pandas all arguments of DataFrame.drop except for the argument 'labels' will be keyword-only.\n",
      "  X = df.drop('class', 1)\n"
     ]
    }
   ],
   "source": [
    "X = df.drop('class', 1)"
   ]
  },
  {
   "cell_type": "code",
   "execution_count": 8,
   "id": "fd847bc3-3e62-476e-813e-7b3cf10ea669",
   "metadata": {},
   "outputs": [
    {
     "data": {
      "text/html": [
       "<div>\n",
       "<style scoped>\n",
       "    .dataframe tbody tr th:only-of-type {\n",
       "        vertical-align: middle;\n",
       "    }\n",
       "\n",
       "    .dataframe tbody tr th {\n",
       "        vertical-align: top;\n",
       "    }\n",
       "\n",
       "    .dataframe thead th {\n",
       "        text-align: right;\n",
       "    }\n",
       "</style>\n",
       "<table border=\"1\" class=\"dataframe\">\n",
       "  <thead>\n",
       "    <tr style=\"text-align: right;\">\n",
       "      <th></th>\n",
       "      <th>clump_thickness</th>\n",
       "      <th>unif_cell_size</th>\n",
       "      <th>unif_cell_shape</th>\n",
       "      <th>marg_adhesion</th>\n",
       "      <th>single_epith_cell_size</th>\n",
       "      <th>bare_nuclei</th>\n",
       "      <th>bland_chrom</th>\n",
       "      <th>norm_nucleoli</th>\n",
       "      <th>mitoses</th>\n",
       "    </tr>\n",
       "  </thead>\n",
       "  <tbody>\n",
       "    <tr>\n",
       "      <th>0</th>\n",
       "      <td>5</td>\n",
       "      <td>1</td>\n",
       "      <td>1</td>\n",
       "      <td>1</td>\n",
       "      <td>2</td>\n",
       "      <td>1</td>\n",
       "      <td>3</td>\n",
       "      <td>1</td>\n",
       "      <td>1</td>\n",
       "    </tr>\n",
       "    <tr>\n",
       "      <th>1</th>\n",
       "      <td>5</td>\n",
       "      <td>4</td>\n",
       "      <td>4</td>\n",
       "      <td>5</td>\n",
       "      <td>7</td>\n",
       "      <td>10</td>\n",
       "      <td>3</td>\n",
       "      <td>2</td>\n",
       "      <td>1</td>\n",
       "    </tr>\n",
       "    <tr>\n",
       "      <th>2</th>\n",
       "      <td>3</td>\n",
       "      <td>1</td>\n",
       "      <td>1</td>\n",
       "      <td>1</td>\n",
       "      <td>2</td>\n",
       "      <td>2</td>\n",
       "      <td>3</td>\n",
       "      <td>1</td>\n",
       "      <td>1</td>\n",
       "    </tr>\n",
       "    <tr>\n",
       "      <th>3</th>\n",
       "      <td>6</td>\n",
       "      <td>8</td>\n",
       "      <td>8</td>\n",
       "      <td>1</td>\n",
       "      <td>3</td>\n",
       "      <td>4</td>\n",
       "      <td>3</td>\n",
       "      <td>7</td>\n",
       "      <td>1</td>\n",
       "    </tr>\n",
       "    <tr>\n",
       "      <th>4</th>\n",
       "      <td>4</td>\n",
       "      <td>1</td>\n",
       "      <td>1</td>\n",
       "      <td>3</td>\n",
       "      <td>2</td>\n",
       "      <td>1</td>\n",
       "      <td>3</td>\n",
       "      <td>1</td>\n",
       "      <td>1</td>\n",
       "    </tr>\n",
       "    <tr>\n",
       "      <th>...</th>\n",
       "      <td>...</td>\n",
       "      <td>...</td>\n",
       "      <td>...</td>\n",
       "      <td>...</td>\n",
       "      <td>...</td>\n",
       "      <td>...</td>\n",
       "      <td>...</td>\n",
       "      <td>...</td>\n",
       "      <td>...</td>\n",
       "    </tr>\n",
       "    <tr>\n",
       "      <th>694</th>\n",
       "      <td>3</td>\n",
       "      <td>1</td>\n",
       "      <td>1</td>\n",
       "      <td>1</td>\n",
       "      <td>3</td>\n",
       "      <td>2</td>\n",
       "      <td>1</td>\n",
       "      <td>1</td>\n",
       "      <td>1</td>\n",
       "    </tr>\n",
       "    <tr>\n",
       "      <th>695</th>\n",
       "      <td>2</td>\n",
       "      <td>1</td>\n",
       "      <td>1</td>\n",
       "      <td>1</td>\n",
       "      <td>2</td>\n",
       "      <td>1</td>\n",
       "      <td>1</td>\n",
       "      <td>1</td>\n",
       "      <td>1</td>\n",
       "    </tr>\n",
       "    <tr>\n",
       "      <th>696</th>\n",
       "      <td>5</td>\n",
       "      <td>10</td>\n",
       "      <td>10</td>\n",
       "      <td>3</td>\n",
       "      <td>7</td>\n",
       "      <td>3</td>\n",
       "      <td>8</td>\n",
       "      <td>10</td>\n",
       "      <td>2</td>\n",
       "    </tr>\n",
       "    <tr>\n",
       "      <th>697</th>\n",
       "      <td>4</td>\n",
       "      <td>8</td>\n",
       "      <td>6</td>\n",
       "      <td>4</td>\n",
       "      <td>3</td>\n",
       "      <td>4</td>\n",
       "      <td>10</td>\n",
       "      <td>6</td>\n",
       "      <td>1</td>\n",
       "    </tr>\n",
       "    <tr>\n",
       "      <th>698</th>\n",
       "      <td>4</td>\n",
       "      <td>8</td>\n",
       "      <td>8</td>\n",
       "      <td>5</td>\n",
       "      <td>4</td>\n",
       "      <td>5</td>\n",
       "      <td>10</td>\n",
       "      <td>4</td>\n",
       "      <td>1</td>\n",
       "    </tr>\n",
       "  </tbody>\n",
       "</table>\n",
       "<p>699 rows × 9 columns</p>\n",
       "</div>"
      ],
      "text/plain": [
       "     clump_thickness  unif_cell_size  unif_cell_shape  marg_adhesion  \\\n",
       "0                  5               1                1              1   \n",
       "1                  5               4                4              5   \n",
       "2                  3               1                1              1   \n",
       "3                  6               8                8              1   \n",
       "4                  4               1                1              3   \n",
       "..               ...             ...              ...            ...   \n",
       "694                3               1                1              1   \n",
       "695                2               1                1              1   \n",
       "696                5              10               10              3   \n",
       "697                4               8                6              4   \n",
       "698                4               8                8              5   \n",
       "\n",
       "     single_epith_cell_size bare_nuclei  bland_chrom  norm_nucleoli  mitoses  \n",
       "0                         2           1            3              1        1  \n",
       "1                         7          10            3              2        1  \n",
       "2                         2           2            3              1        1  \n",
       "3                         3           4            3              7        1  \n",
       "4                         2           1            3              1        1  \n",
       "..                      ...         ...          ...            ...      ...  \n",
       "694                       3           2            1              1        1  \n",
       "695                       2           1            1              1        1  \n",
       "696                       7           3            8             10        2  \n",
       "697                       3           4           10              6        1  \n",
       "698                       4           5           10              4        1  \n",
       "\n",
       "[699 rows x 9 columns]"
      ]
     },
     "execution_count": 8,
     "metadata": {},
     "output_type": "execute_result"
    }
   ],
   "source": [
    "X\n"
   ]
  },
  {
   "cell_type": "code",
   "execution_count": 9,
   "id": "66b161e7-d266-44c9-ab44-a076c9160d30",
   "metadata": {},
   "outputs": [],
   "source": [
    "y = df['class']"
   ]
  },
  {
   "cell_type": "code",
   "execution_count": 10,
   "id": "539a98d4-c711-44e8-b4f8-c783cd62763d",
   "metadata": {},
   "outputs": [
    {
     "data": {
      "text/plain": [
       "0      2\n",
       "1      2\n",
       "2      2\n",
       "3      2\n",
       "4      2\n",
       "      ..\n",
       "694    2\n",
       "695    2\n",
       "696    4\n",
       "697    4\n",
       "698    4\n",
       "Name: class, Length: 699, dtype: int64"
      ]
     },
     "execution_count": 10,
     "metadata": {},
     "output_type": "execute_result"
    }
   ],
   "source": [
    "y"
   ]
  },
  {
   "cell_type": "code",
   "execution_count": 11,
   "id": "db816e13-a588-4702-a458-20c21bdbe8a0",
   "metadata": {},
   "outputs": [],
   "source": [
    "X_train, X_test, y_train, y_test = train_test_split(X, y, test_size = 0.2)"
   ]
  },
  {
   "cell_type": "code",
   "execution_count": 12,
   "id": "7d845e6a-e70a-4b6c-8d34-1ac3581df6d6",
   "metadata": {},
   "outputs": [],
   "source": [
    "model = svm.SVC()"
   ]
  },
  {
   "cell_type": "code",
   "execution_count": 13,
   "id": "15c24362-6297-4aee-bf7b-f15e80cdec35",
   "metadata": {},
   "outputs": [
    {
     "data": {
      "text/plain": [
       "SVC()"
      ]
     },
     "execution_count": 13,
     "metadata": {},
     "output_type": "execute_result"
    }
   ],
   "source": [
    "model.fit(X_train, y_train)"
   ]
  },
  {
   "cell_type": "code",
   "execution_count": 14,
   "id": "117c948a-5893-4fe0-971c-c515e0eea8f1",
   "metadata": {},
   "outputs": [],
   "source": [
    "accuracy = model.score(X_test, y_test)"
   ]
  },
  {
   "cell_type": "code",
   "execution_count": 15,
   "id": "269bb727-2d60-4e1a-acb3-46046efe3c71",
   "metadata": {},
   "outputs": [
    {
     "data": {
      "text/plain": [
       "0.6928571428571428"
      ]
     },
     "execution_count": 15,
     "metadata": {},
     "output_type": "execute_result"
    }
   ],
   "source": [
    "accuracy"
   ]
  },
  {
   "cell_type": "code",
   "execution_count": 16,
   "id": "a4371c86-390e-4303-95c6-16904c343f46",
   "metadata": {},
   "outputs": [],
   "source": [
    "predictions = model.predict(X_test)"
   ]
  },
  {
   "cell_type": "code",
   "execution_count": 17,
   "id": "c8ca0fa2-17e2-43a9-ba1f-1f8cc2924fb6",
   "metadata": {},
   "outputs": [
    {
     "data": {
      "text/plain": [
       "array([2, 2, 2, 2, 2, 2, 2, 2, 2, 2, 2, 2, 2, 2, 2, 2, 2, 2, 2, 2, 2, 2,\n",
       "       2, 2, 2, 2, 2, 2, 2, 2, 2, 2, 2, 2, 2, 2, 2, 2, 2, 2, 2, 2, 2, 2,\n",
       "       2, 2, 2, 2, 2, 2, 2, 2, 2, 2, 2, 2, 2, 2, 2, 2, 2, 2, 2, 2, 2, 2,\n",
       "       2, 2, 2, 2, 2, 2, 2, 2, 2, 2, 2, 2, 2, 2, 2, 2, 2, 2, 2, 2, 2, 2,\n",
       "       2, 2, 2, 2, 2, 2, 2, 2, 2, 2, 2, 2, 2, 2, 2, 2, 2, 2, 2, 2, 2, 2,\n",
       "       2, 2, 2, 2, 2, 2, 2, 2, 2, 2, 2, 2, 2, 2, 2, 2, 2, 2, 2, 2, 2, 2,\n",
       "       2, 2, 2, 2, 2, 2, 2, 2])"
      ]
     },
     "execution_count": 17,
     "metadata": {},
     "output_type": "execute_result"
    }
   ],
   "source": [
    "predictions"
   ]
  },
  {
   "cell_type": "code",
   "execution_count": 18,
   "id": "f9867c16-610f-4ef8-9f10-4653986b88ef",
   "metadata": {},
   "outputs": [],
   "source": [
    "score = accuracy_score(y_test, predictions)"
   ]
  },
  {
   "cell_type": "code",
   "execution_count": 19,
   "id": "5b837e02-934e-4edd-add7-7649f92a117e",
   "metadata": {},
   "outputs": [
    {
     "data": {
      "text/plain": [
       "0.6928571428571428"
      ]
     },
     "execution_count": 19,
     "metadata": {},
     "output_type": "execute_result"
    }
   ],
   "source": [
    "score"
   ]
  },
  {
   "cell_type": "code",
   "execution_count": 20,
   "id": "0900ef3f-2c0f-4222-b37a-ecfb661c787c",
   "metadata": {},
   "outputs": [],
   "source": [
    "example_measure = np.array([4,3,2,1,1,2,3,2,2])"
   ]
  },
  {
   "cell_type": "code",
   "execution_count": 21,
   "id": "379de386-900e-47b4-9b33-3f5cbec8c7e5",
   "metadata": {},
   "outputs": [],
   "source": [
    "example_measure = example_measure.reshape(1,-1)"
   ]
  },
  {
   "cell_type": "code",
   "execution_count": 22,
   "id": "d232673f-63f1-4d9e-aa2b-f634e2caf49c",
   "metadata": {},
   "outputs": [
    {
     "name": "stderr",
     "output_type": "stream",
     "text": [
      "/home/miraqulas/anaconda3/lib/python3.9/site-packages/sklearn/base.py:450: UserWarning: X does not have valid feature names, but SVC was fitted with feature names\n",
      "  warnings.warn(\n"
     ]
    }
   ],
   "source": [
    "prediction = model.predict(example_measure)"
   ]
  },
  {
   "cell_type": "code",
   "execution_count": 23,
   "id": "3a957537-d22b-42f4-b747-9a5c43b45c36",
   "metadata": {},
   "outputs": [
    {
     "data": {
      "text/plain": [
       "array([2])"
      ]
     },
     "execution_count": 23,
     "metadata": {},
     "output_type": "execute_result"
    }
   ],
   "source": [
    "prediction"
   ]
  },
  {
   "cell_type": "code",
   "execution_count": 24,
   "id": "651fa7da-318c-4d42-a814-f58af147fd4f",
   "metadata": {},
   "outputs": [],
   "source": [
    "example_measure = np.array([[4,3,2,1,1,2,3,2,2],[4,1,1,2,2,3,2,1,1]])"
   ]
  },
  {
   "cell_type": "code",
   "execution_count": 25,
   "id": "9145a00a-3dc4-4330-9eca-11f11837e664",
   "metadata": {},
   "outputs": [],
   "source": [
    "example_measure = example_measure.reshape(len(example_measure),-1)"
   ]
  },
  {
   "cell_type": "code",
   "execution_count": 26,
   "id": "b6e3e5a4-b84c-43e4-812e-3ca45f971ac1",
   "metadata": {},
   "outputs": [
    {
     "name": "stderr",
     "output_type": "stream",
     "text": [
      "/home/miraqulas/anaconda3/lib/python3.9/site-packages/sklearn/base.py:450: UserWarning: X does not have valid feature names, but SVC was fitted with feature names\n",
      "  warnings.warn(\n"
     ]
    }
   ],
   "source": [
    "predictions = model.predict(example_measure)"
   ]
  },
  {
   "cell_type": "code",
   "execution_count": 27,
   "id": "9af318a0-1e40-43ae-955b-0b1eadc05376",
   "metadata": {},
   "outputs": [
    {
     "data": {
      "text/plain": [
       "array([2, 2])"
      ]
     },
     "execution_count": 27,
     "metadata": {},
     "output_type": "execute_result"
    }
   ],
   "source": [
    "predictions"
   ]
  },
  {
   "cell_type": "code",
   "execution_count": null,
   "id": "ed74701b-e774-4923-8558-0edcf4c9a9a2",
   "metadata": {},
   "outputs": [],
   "source": []
  },
  {
   "cell_type": "code",
   "execution_count": null,
   "id": "08ac86a9-6104-407b-adf0-dd200ca46e0a",
   "metadata": {},
   "outputs": [],
   "source": []
  },
  {
   "cell_type": "code",
   "execution_count": 28,
   "id": "2ba8bc1a-20dc-4219-a772-64b5602918d4",
   "metadata": {},
   "outputs": [],
   "source": [
    "import matplotlib.pyplot as plt\n",
    "from matplotlib import style\n",
    "import numpy as np"
   ]
  },
  {
   "cell_type": "code",
   "execution_count": 29,
   "id": "e1354cea-44ac-40fa-aca0-ff607fc5b3fe",
   "metadata": {},
   "outputs": [],
   "source": [
    "style.use('ggplot')"
   ]
  },
  {
   "cell_type": "code",
   "execution_count": null,
   "id": "3d131bdd-982e-44f7-af84-5988f02bc0e6",
   "metadata": {},
   "outputs": [],
   "source": []
  },
  {
   "cell_type": "code",
   "execution_count": 30,
   "id": "2925a508-8361-422b-abb1-dea995f253b7",
   "metadata": {},
   "outputs": [],
   "source": [
    "class Support_Vector_Machine:\n",
    "    def __init__(self, visualization=True):\n",
    "        self.visualization = visualization\n",
    "        self.colors = {1:'r', -1:'b'}\n",
    "        if self.visualization:\n",
    "            self.fig = plt.figure()\n",
    "            self.ax = self.fig.add_subplot(1,1,1)\n",
    "            \n",
    "    def fit(self, data):\n",
    "        self.data = data\n",
    "        \n",
    "#         { ||w||: [w,b] }\n",
    "        opt_dict = {}\n",
    "    \n",
    "        transforms = [[1,1],\n",
    "                     [1,-1],\n",
    "                     [-1,-1],\n",
    "                     [-1,1]]\n",
    "        \n",
    "        all_data = []\n",
    "        for yi in self.data:\n",
    "            for featureset in self.data[yi]:\n",
    "                for feature in featureset:\n",
    "                    all_data.append(feature)\n",
    "                    \n",
    "        self.max_feature_value = max(all_data)\n",
    "        self.min_feature_value = min(all_data)\n",
    "        all_data = None\n",
    "        \n",
    "        step_sizes = [self.max_feature_value * 0.1, \n",
    "                     self.max_feature_value * 0.01,\n",
    "                     self.max_feature_value * 0.001,]\n",
    "        \n",
    "        b_range_multiple = 5\n",
    "        b_multiple = 5\n",
    "        latest_optimum = self.max_feature_value * 10\n",
    "        \n",
    "        for step in step_sizes:\n",
    "            w = np.array([latest_optimum, latest_optimum])\n",
    "            optimized = False\n",
    "            while not optimized:\n",
    "                for b in np.arange(-1*(self.max_feature_value*b_range_mutliple), \n",
    "                                  self.max_feature_value*b_range_multiple, \n",
    "                                  step*b_multiple):\n",
    "                    for transformation in transforms:\n",
    "                        w_t = w*transformation\n",
    "                        found_option = True\n",
    "                        \n",
    "                        for i in self.data:\n",
    "                            for xi in self.data[i]:\n",
    "                                yi = i\n",
    "                                if not yi*(np.dot(w_t, xi) + b >= 1):\n",
    "                                    found_option = False\n",
    "                                    \n",
    "                        if found_option:\n",
    "                            opt_dict[np.linalg.norm(w_t)] = [w_t, b]\n",
    "                            \n",
    "                if w[0]<0:\n",
    "                    optimized = True\n",
    "                    print('Optimized a step')\n",
    "                    \n",
    "                else:\n",
    "                    w = w - step\n",
    "                    \n",
    "            norms = sorted([n for n in opt_dict])\n",
    "            opt_choice = opt_dict[norms[0]]\n",
    "            \n",
    "            self.w = opt_choice[0]\n",
    "            self.b = opt_choice[1]\n",
    "            latest_optimum = opt_choice[0][0] + step * 2\n",
    "    \n",
    "    def predict(self, features):\n",
    "#         self( x.w+b )\n",
    "        classification = np.sign(np.dot(np.array(features), self.w) + self.b)\n",
    "        if classification != 0 and self.visualization:\n",
    "            self.ax.scatter(features[0], features[1], s = 200, marker = '*', c = self.colors[classification])\n",
    "            return classification\n",
    "        \n",
    "    def visualize(self):\n",
    "        [[self.ax.scatter(x[0], x[1], s = 100, color = self.colors[i]) for x in data_dict[i]] for i in data_dict]\n",
    "        \n",
    "#         hyperplane = x.w+b\n",
    "#         v = x.w+b\n",
    "#         psv = 1\n",
    "#         nsv = -1\n",
    "#         dec = 0\n",
    "        def hyperplane(x,w,b,v):\n",
    "           return (-w[0]*x-b+v) / w[1]\n",
    "        \n",
    "        datarange = (self.min_feature_value*0.9, self.max_feature_value*1.1)\n",
    "        hyp_x_min = datarange[0]\n",
    "        hyp_x_max = datarange[1]\n",
    "        \n",
    "#         (w.x+b=1)\n",
    "#         positive support vector hyperplane\n",
    "        psv1 = hyperplane(hyp_x_min, self.w, self.b, 1)\n",
    "        psv2 = hyperplane(hyp_x_max, self.w, self.b, 1)\n",
    "        self.ax.plot([hyp_x_min,hyp_x_max],[psv1,psv2])\n",
    "        \n",
    "        #         (w.x+b=-1)\n",
    "#         negative support vector hyperplane\n",
    "        nsv1 = hyperplane(hyp_x_min, self.w, self.b, -1)\n",
    "        nsv2 = hyperplane(hyp_x_max, self.w, self.b, -1)\n",
    "        self.ax.plot([hyp_x_min,hyp_x_max],[nsv1,nsv2])\n",
    "        \n",
    "        #         (w.x+b=0)\n",
    "#         positive support vector hyperplane\n",
    "        db1 = hyperplane(hyp_x_min, self.w, self.b, 0)\n",
    "        db2 = hyperplane(hyp_x_max, self.w, self.b, 0)\n",
    "        self.ax.plot([hyp_x_min,hyp_x_max],[db1,db2])\n",
    "        \n",
    "        plt.show()"
   ]
  },
  {
   "cell_type": "code",
   "execution_count": 31,
   "id": "bf27533f-1242-431f-9e47-de49e67470d9",
   "metadata": {},
   "outputs": [],
   "source": [
    "data_dict = {-1:np.array([[1,7],\n",
    "                        [2,8],\n",
    "                        [3,9]]),\n",
    "            1:np.array([[5,1],\n",
    "                      [6,-1],\n",
    "                      [7,3]])}"
   ]
  },
  {
   "cell_type": "code",
   "execution_count": 32,
   "id": "4d069851-0c46-4556-8d3a-f22b87314110",
   "metadata": {},
   "outputs": [
    {
     "data": {
      "image/png": "[encoded data removed]",
      "text/plain": [
       "<Figure size 640x480 with 1 Axes>"
      ]
     },
     "metadata": {},
     "output_type": "display_data"
    }
   ],
   "source": [
    "svm = Support_Vector_Machine()"
   ]
  },
  {
   "cell_type": "code",
   "execution_count": null,
   "id": "0bc4311a-46e7-4312-bf8f-7f6224a0cba4",
   "metadata": {},
   "outputs": [],
   "source": []
  }
 ],
 "metadata": {
  "kernelspec": {
   "display_name": "Python 3 (ipykernel)",
   "language": "python",
   "name": "python3"
  },
  "language_info": {
   "codemirror_mode": {
    "name": "ipython",
    "version": 3
   },
   "file_extension": ".py",
   "mimetype": "text/x-python",
   "name": "python",
   "nbconvert_exporter": "python",
   "pygments_lexer": "ipython3",
   "version": "3.9.13"
  }
 },
 "nbformat": 4,
 "nbformat_minor": 5
}
