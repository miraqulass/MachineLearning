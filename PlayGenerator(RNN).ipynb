{
  "nbformat": 4,
  "nbformat_minor": 0,
  "metadata": {
    "colab": {
      "provenance": [],
      "gpuType": "T4",
      "authorship_tag": "ABX9TyPZQOr+CrngXidTYUHxWfFU",
      "include_colab_link": true
    },
    "kernelspec": {
      "name": "python3",
      "display_name": "Python 3"
    },
    "language_info": {
      "name": "python"
    },
    "accelerator": "GPU"
  },
  "cells": [
    {
      "cell_type": "markdown",
      "metadata": {
        "id": "view-in-github",
        "colab_type": "text"
      },
      "source": [
        "<a href=\"https://colab.research.google.com/github/miraqulass/MachineLearning/blob/MLPractices/PlayGenerator(RNN).ipynb\" target=\"_parent\"><img src=\"https://colab.research.google.com/assets/colab-badge.svg\" alt=\"Open In Colab\"/></a>"
      ]
    },
    {
      "cell_type": "code",
      "execution_count": 46,
      "metadata": {
        "id": "gftGtD0fUa07"
      },
      "outputs": [],
      "source": [
        "import keras\n",
        "from keras.preprocessing import sequence\n",
        "import tensorflow as tf\n",
        "import os\n",
        "import numpy as np"
      ]
    },
    {
      "cell_type": "code",
      "source": [
        "path_to_file = tf.keras.utils.get_file('shakespeare.txt', 'https://storage.googleapis.com/download.tensorflow.org/data/shakespeare.txt')"
      ],
      "metadata": {
        "id": "VsXXCS9KWYWW"
      },
      "execution_count": 47,
      "outputs": []
    },
    {
      "cell_type": "code",
      "source": [
        "# Loading Your Own Data\n",
        "\n",
        "from google.colab import files\n",
        "path_to_file = list(files.upload().keys())[0]"
      ],
      "metadata": {
        "collapsed": true,
        "id": "iurKoY28WoYS",
        "outputId": "cf2d6920-cb9c-44a7-8da1-3e6bb3794bef",
        "colab": {
          "base_uri": "https://localhost:8080/",
          "height": 38
        }
      },
      "execution_count": null,
      "outputs": [
        {
          "output_type": "display_data",
          "data": {
            "text/plain": [
              "<IPython.core.display.HTML object>"
            ],
            "text/html": [
              "\n",
              "     <input type=\"file\" id=\"files-aaa501e6-fb1c-43c9-8225-10e4aaea6603\" name=\"files[]\" multiple disabled\n",
              "        style=\"border:none\" />\n",
              "     <output id=\"result-aaa501e6-fb1c-43c9-8225-10e4aaea6603\">\n",
              "      Upload widget is only available when the cell has been executed in the\n",
              "      current browser session. Please rerun this cell to enable.\n",
              "      </output>\n",
              "      <script>// Copyright 2017 Google LLC\n",
              "//\n",
              "// Licensed under the Apache License, Version 2.0 (the \"License\");\n",
              "// you may not use this file except in compliance with the License.\n",
              "// You may obtain a copy of the License at\n",
              "//\n",
              "//      http://www.apache.org/licenses/LICENSE-2.0\n",
              "//\n",
              "// Unless required by applicable law or agreed to in writing, software\n",
              "// distributed under the License is distributed on an \"AS IS\" BASIS,\n",
              "// WITHOUT WARRANTIES OR CONDITIONS OF ANY KIND, either express or implied.\n",
              "// See the License for the specific language governing permissions and\n",
              "// limitations under the License.\n",
              "\n",
              "/**\n",
              " * @fileoverview Helpers for google.colab Python module.\n",
              " */\n",
              "(function(scope) {\n",
              "function span(text, styleAttributes = {}) {\n",
              "  const element = document.createElement('span');\n",
              "  element.textContent = text;\n",
              "  for (const key of Object.keys(styleAttributes)) {\n",
              "    element.style[key] = styleAttributes[key];\n",
              "  }\n",
              "  return element;\n",
              "}\n",
              "\n",
              "// Max number of bytes which will be uploaded at a time.\n",
              "const MAX_PAYLOAD_SIZE = 100 * 1024;\n",
              "\n",
              "function _uploadFiles(inputId, outputId) {\n",
              "  const steps = uploadFilesStep(inputId, outputId);\n",
              "  const outputElement = document.getElementById(outputId);\n",
              "  // Cache steps on the outputElement to make it available for the next call\n",
              "  // to uploadFilesContinue from Python.\n",
              "  outputElement.steps = steps;\n",
              "\n",
              "  return _uploadFilesContinue(outputId);\n",
              "}\n",
              "\n",
              "// This is roughly an async generator (not supported in the browser yet),\n",
              "// where there are multiple asynchronous steps and the Python side is going\n",
              "// to poll for completion of each step.\n",
              "// This uses a Promise to block the python side on completion of each step,\n",
              "// then passes the result of the previous step as the input to the next step.\n",
              "function _uploadFilesContinue(outputId) {\n",
              "  const outputElement = document.getElementById(outputId);\n",
              "  const steps = outputElement.steps;\n",
              "\n",
              "  const next = steps.next(outputElement.lastPromiseValue);\n",
              "  return Promise.resolve(next.value.promise).then((value) => {\n",
              "    // Cache the last promise value to make it available to the next\n",
              "    // step of the generator.\n",
              "    outputElement.lastPromiseValue = value;\n",
              "    return next.value.response;\n",
              "  });\n",
              "}\n",
              "\n",
              "/**\n",
              " * Generator function which is called between each async step of the upload\n",
              " * process.\n",
              " * @param {string} inputId Element ID of the input file picker element.\n",
              " * @param {string} outputId Element ID of the output display.\n",
              " * @return {!Iterable<!Object>} Iterable of next steps.\n",
              " */\n",
              "function* uploadFilesStep(inputId, outputId) {\n",
              "  const inputElement = document.getElementById(inputId);\n",
              "  inputElement.disabled = false;\n",
              "\n",
              "  const outputElement = document.getElementById(outputId);\n",
              "  outputElement.innerHTML = '';\n",
              "\n",
              "  const pickedPromise = new Promise((resolve) => {\n",
              "    inputElement.addEventListener('change', (e) => {\n",
              "      resolve(e.target.files);\n",
              "    });\n",
              "  });\n",
              "\n",
              "  const cancel = document.createElement('button');\n",
              "  inputElement.parentElement.appendChild(cancel);\n",
              "  cancel.textContent = 'Cancel upload';\n",
              "  const cancelPromise = new Promise((resolve) => {\n",
              "    cancel.onclick = () => {\n",
              "      resolve(null);\n",
              "    };\n",
              "  });\n",
              "\n",
              "  // Wait for the user to pick the files.\n",
              "  const files = yield {\n",
              "    promise: Promise.race([pickedPromise, cancelPromise]),\n",
              "    response: {\n",
              "      action: 'starting',\n",
              "    }\n",
              "  };\n",
              "\n",
              "  cancel.remove();\n",
              "\n",
              "  // Disable the input element since further picks are not allowed.\n",
              "  inputElement.disabled = true;\n",
              "\n",
              "  if (!files) {\n",
              "    return {\n",
              "      response: {\n",
              "        action: 'complete',\n",
              "      }\n",
              "    };\n",
              "  }\n",
              "\n",
              "  for (const file of files) {\n",
              "    const li = document.createElement('li');\n",
              "    li.append(span(file.name, {fontWeight: 'bold'}));\n",
              "    li.append(span(\n",
              "        `(${file.type || 'n/a'}) - ${file.size} bytes, ` +\n",
              "        `last modified: ${\n",
              "            file.lastModifiedDate ? file.lastModifiedDate.toLocaleDateString() :\n",
              "                                    'n/a'} - `));\n",
              "    const percent = span('0% done');\n",
              "    li.appendChild(percent);\n",
              "\n",
              "    outputElement.appendChild(li);\n",
              "\n",
              "    const fileDataPromise = new Promise((resolve) => {\n",
              "      const reader = new FileReader();\n",
              "      reader.onload = (e) => {\n",
              "        resolve(e.target.result);\n",
              "      };\n",
              "      reader.readAsArrayBuffer(file);\n",
              "    });\n",
              "    // Wait for the data to be ready.\n",
              "    let fileData = yield {\n",
              "      promise: fileDataPromise,\n",
              "      response: {\n",
              "        action: 'continue',\n",
              "      }\n",
              "    };\n",
              "\n",
              "    // Use a chunked sending to avoid message size limits. See b/62115660.\n",
              "    let position = 0;\n",
              "    do {\n",
              "      const length = Math.min(fileData.byteLength - position, MAX_PAYLOAD_SIZE);\n",
              "      const chunk = new Uint8Array(fileData, position, length);\n",
              "      position += length;\n",
              "\n",
              "      const base64 = btoa(String.fromCharCode.apply(null, chunk));\n",
              "      yield {\n",
              "        response: {\n",
              "          action: 'append',\n",
              "          file: file.name,\n",
              "          data: base64,\n",
              "        },\n",
              "      };\n",
              "\n",
              "      let percentDone = fileData.byteLength === 0 ?\n",
              "          100 :\n",
              "          Math.round((position / fileData.byteLength) * 100);\n",
              "      percent.textContent = `${percentDone}% done`;\n",
              "\n",
              "    } while (position < fileData.byteLength);\n",
              "  }\n",
              "\n",
              "  // All done.\n",
              "  yield {\n",
              "    response: {\n",
              "      action: 'complete',\n",
              "    }\n",
              "  };\n",
              "}\n",
              "\n",
              "scope.google = scope.google || {};\n",
              "scope.google.colab = scope.google.colab || {};\n",
              "scope.google.colab._files = {\n",
              "  _uploadFiles,\n",
              "  _uploadFilesContinue,\n",
              "};\n",
              "})(self);\n",
              "</script> "
            ]
          },
          "metadata": {}
        }
      ]
    },
    {
      "cell_type": "code",
      "source": [
        "text = open(path_to_file, 'rb').read().decode(encoding='utf-8')\n",
        "\n",
        "print('Length of text: {} characters'.format(len(text)))\n",
        "# Length of text is the number of characters in it"
      ],
      "metadata": {
        "id": "AbOxaj0PXpWa",
        "colab": {
          "base_uri": "https://localhost:8080/"
        },
        "outputId": "6339fdb9-a0c8-4cc0-968d-943f57b1187a"
      },
      "execution_count": 48,
      "outputs": [
        {
          "output_type": "stream",
          "name": "stdout",
          "text": [
            "Length of text: 1115394 characters\n"
          ]
        }
      ]
    },
    {
      "cell_type": "code",
      "source": [
        "print(text[:250])"
      ],
      "metadata": {
        "id": "ETLCvZXEXpUA",
        "colab": {
          "base_uri": "https://localhost:8080/"
        },
        "outputId": "9abc59f2-f07f-41e2-ea71-9cabf2fdb9d8"
      },
      "execution_count": 49,
      "outputs": [
        {
          "output_type": "stream",
          "name": "stdout",
          "text": [
            "First Citizen:\n",
            "Before we proceed any further, hear me speak.\n",
            "\n",
            "All:\n",
            "Speak, speak.\n",
            "\n",
            "First Citizen:\n",
            "You are all resolved rather to die than to famish?\n",
            "\n",
            "All:\n",
            "Resolved. resolved.\n",
            "\n",
            "First Citizen:\n",
            "First, you know Caius Marcius is chief enemy to the people.\n",
            "\n"
          ]
        }
      ]
    },
    {
      "cell_type": "code",
      "source": [
        "# Encoding\n",
        "\n",
        "vocab = sorted(set(text))\n",
        "\n",
        "char2idx = {u:i for i, u in enumerate(vocab)}\n",
        "idx2char = np.array(vocab)\n",
        "\n",
        "def text_to_int(text):\n",
        "  return np.array([char2idx[c] for c in text])\n",
        "\n",
        "text_as_int = text_to_int(text)"
      ],
      "metadata": {
        "id": "Sydvk4vfXpOP"
      },
      "execution_count": 50,
      "outputs": []
    },
    {
      "cell_type": "code",
      "source": [
        "print(\"Text:\", text[:13])\n",
        "print(\"Encoded:\", text_to_int(text[:13]))"
      ],
      "metadata": {
        "id": "Ho3Y-68JXpMa",
        "colab": {
          "base_uri": "https://localhost:8080/"
        },
        "outputId": "5e369ada-e373-4912-b55a-992e48dfcb20"
      },
      "execution_count": 51,
      "outputs": [
        {
          "output_type": "stream",
          "name": "stdout",
          "text": [
            "Text: First Citizen\n",
            "Encoded: [18 47 56 57 58  1 15 47 58 47 64 43 52]\n"
          ]
        }
      ]
    },
    {
      "cell_type": "code",
      "source": [
        "# int to text\n",
        "\n",
        "def int_to_text(ints):\n",
        "  try:\n",
        "    ints = ints.numpy()\n",
        "  except:\n",
        "    pass\n",
        "  return ''.join(idx2char[ints])\n",
        "\n",
        "print(int_to_text(text_as_int[:13]))"
      ],
      "metadata": {
        "id": "gYIp57FWXpKE",
        "colab": {
          "base_uri": "https://localhost:8080/"
        },
        "outputId": "37b80e02-02b8-4991-c8e7-8295a364ad6c"
      },
      "execution_count": 52,
      "outputs": [
        {
          "output_type": "stream",
          "name": "stdout",
          "text": [
            "First Citizen\n"
          ]
        }
      ]
    },
    {
      "cell_type": "code",
      "source": [
        "# Creating training examples\n",
        "\n",
        "seq_length = 100\n",
        "examples_per_epoch = len(text)//(seq_length+1)\n",
        "\n",
        "# Create a stream of characters\n",
        "char_dataset = tf.data.Dataset.from_tensor_slices(text_as_int)"
      ],
      "metadata": {
        "id": "30PNpF9qXpIB"
      },
      "execution_count": 53,
      "outputs": []
    },
    {
      "cell_type": "code",
      "source": [
        "sequences = char_dataset.batch(seq_length+1, drop_remainder=True)"
      ],
      "metadata": {
        "id": "Sl16G1ADXpFB"
      },
      "execution_count": 54,
      "outputs": []
    },
    {
      "cell_type": "code",
      "source": [
        "def split_input_target(chunk):    # for instance: hello\n",
        "  input_text = chunk[:-1]         # hell\n",
        "  target_text = chunk[1:]         # ello\n",
        "  return input_text, target_text  # hell, ello\n",
        "\n",
        "dataset = sequences.map(split_input_target)   # Map is used to apply the function to every entry"
      ],
      "metadata": {
        "id": "9gMIdGk1XpCN"
      },
      "execution_count": 55,
      "outputs": []
    },
    {
      "cell_type": "code",
      "source": [
        "for x, y in dataset.take(2):\n",
        "  print(\"\\n\\nEXAMPLE\\n\")\n",
        "  print(\"INPUT\")\n",
        "  print(int_to_text(x))\n",
        "  print(\"\\nOUTPUT\")\n",
        "  print(int_to_text(y))"
      ],
      "metadata": {
        "id": "ZRWbdTaoXo_E",
        "colab": {
          "base_uri": "https://localhost:8080/"
        },
        "outputId": "a780ebfa-621f-4840-d7aa-795dbbc574a7"
      },
      "execution_count": 56,
      "outputs": [
        {
          "output_type": "stream",
          "name": "stdout",
          "text": [
            "\n",
            "\n",
            "EXAMPLE\n",
            "\n",
            "INPUT\n",
            "First Citizen:\n",
            "Before we proceed any further, hear me speak.\n",
            "\n",
            "All:\n",
            "Speak, speak.\n",
            "\n",
            "First Citizen:\n",
            "You\n",
            "\n",
            "OUTPUT\n",
            "irst Citizen:\n",
            "Before we proceed any further, hear me speak.\n",
            "\n",
            "All:\n",
            "Speak, speak.\n",
            "\n",
            "First Citizen:\n",
            "You \n",
            "\n",
            "\n",
            "EXAMPLE\n",
            "\n",
            "INPUT\n",
            "are all resolved rather to die than to famish?\n",
            "\n",
            "All:\n",
            "Resolved. resolved.\n",
            "\n",
            "First Citizen:\n",
            "First, you \n",
            "\n",
            "OUTPUT\n",
            "re all resolved rather to die than to famish?\n",
            "\n",
            "All:\n",
            "Resolved. resolved.\n",
            "\n",
            "First Citizen:\n",
            "First, you k\n"
          ]
        }
      ]
    },
    {
      "cell_type": "code",
      "source": [
        "# Training batches\n",
        "\n",
        "BATCH_SIZE = 64\n",
        "VOCAB_SIZE = len(vocab)\n",
        "EMBEDDING_DIM = 256\n",
        "RNN_UNITS = 1024\n",
        "\n",
        "BUFFER_SIZE = 10000\n",
        "\n",
        "data = dataset.shuffle(BUFFER_SIZE).batch(BATCH_SIZE, drop_remainder=True)"
      ],
      "metadata": {
        "id": "dD776iNCDPYM"
      },
      "execution_count": 57,
      "outputs": []
    },
    {
      "cell_type": "code",
      "source": [
        "# Building the Model\n",
        "\n",
        "def build_model(vocab_size, embedding_dim, rnn_units, batch_size):\n",
        "    # Explicitly define the input with batch size\n",
        "    inputs = tf.keras.Input(batch_shape=[batch_size, None])\n",
        "\n",
        "    x = tf.keras.layers.Embedding(vocab_size, embedding_dim)(inputs)\n",
        "    x = tf.keras.layers.LSTM(rnn_units, return_sequences=True,\n",
        "                             stateful=True, recurrent_initializer='glorot_uniform')(x)\n",
        "    outputs = tf.keras.layers.Dense(vocab_size)(x)\n",
        "\n",
        "    model = tf.keras.Model(inputs, outputs)\n",
        "    return model\n",
        "\n",
        "model = build_model(VOCAB_SIZE, EMBEDDING_DIM, RNN_UNITS, BATCH_SIZE)\n",
        "model.summary()"
      ],
      "metadata": {
        "id": "vQ-j1g1cDPU2",
        "colab": {
          "base_uri": "https://localhost:8080/",
          "height": 257
        },
        "outputId": "42805efd-bc46-42e2-9083-f8969116002d"
      },
      "execution_count": 58,
      "outputs": [
        {
          "output_type": "display_data",
          "data": {
            "text/plain": [
              "\u001b[1mModel: \"functional_4\"\u001b[0m\n"
            ],
            "text/html": [
              "<pre style=\"white-space:pre;overflow-x:auto;line-height:normal;font-family:Menlo,'DejaVu Sans Mono',consolas,'Courier New',monospace\"><span style=\"font-weight: bold\">Model: \"functional_4\"</span>\n",
              "</pre>\n"
            ]
          },
          "metadata": {}
        },
        {
          "output_type": "display_data",
          "data": {
            "text/plain": [
              "┏━━━━━━━━━━━━━━━━━━━━━━━━━━━━━━━━━━━━━━┳━━━━━━━━━━━━━━━━━━━━━━━━━━━━━┳━━━━━━━━━━━━━━━━━┓\n",
              "┃\u001b[1m \u001b[0m\u001b[1mLayer (type)                        \u001b[0m\u001b[1m \u001b[0m┃\u001b[1m \u001b[0m\u001b[1mOutput Shape               \u001b[0m\u001b[1m \u001b[0m┃\u001b[1m \u001b[0m\u001b[1m        Param #\u001b[0m\u001b[1m \u001b[0m┃\n",
              "┡━━━━━━━━━━━━━━━━━━━━━━━━━━━━━━━━━━━━━━╇━━━━━━━━━━━━━━━━━━━━━━━━━━━━━╇━━━━━━━━━━━━━━━━━┩\n",
              "│ input_layer_4 (\u001b[38;5;33mInputLayer\u001b[0m)           │ (\u001b[38;5;34m64\u001b[0m, \u001b[38;5;45mNone\u001b[0m)                  │               \u001b[38;5;34m0\u001b[0m │\n",
              "├──────────────────────────────────────┼─────────────────────────────┼─────────────────┤\n",
              "│ embedding_5 (\u001b[38;5;33mEmbedding\u001b[0m)              │ (\u001b[38;5;34m64\u001b[0m, \u001b[38;5;45mNone\u001b[0m, \u001b[38;5;34m256\u001b[0m)             │          \u001b[38;5;34m16,640\u001b[0m │\n",
              "├──────────────────────────────────────┼─────────────────────────────┼─────────────────┤\n",
              "│ lstm_4 (\u001b[38;5;33mLSTM\u001b[0m)                        │ (\u001b[38;5;34m64\u001b[0m, \u001b[38;5;45mNone\u001b[0m, \u001b[38;5;34m1024\u001b[0m)            │       \u001b[38;5;34m5,246,976\u001b[0m │\n",
              "├──────────────────────────────────────┼─────────────────────────────┼─────────────────┤\n",
              "│ dense_4 (\u001b[38;5;33mDense\u001b[0m)                      │ (\u001b[38;5;34m64\u001b[0m, \u001b[38;5;45mNone\u001b[0m, \u001b[38;5;34m65\u001b[0m)              │          \u001b[38;5;34m66,625\u001b[0m │\n",
              "└──────────────────────────────────────┴─────────────────────────────┴─────────────────┘\n"
            ],
            "text/html": [
              "<pre style=\"white-space:pre;overflow-x:auto;line-height:normal;font-family:Menlo,'DejaVu Sans Mono',consolas,'Courier New',monospace\">┏━━━━━━━━━━━━━━━━━━━━━━━━━━━━━━━━━━━━━━┳━━━━━━━━━━━━━━━━━━━━━━━━━━━━━┳━━━━━━━━━━━━━━━━━┓\n",
              "┃<span style=\"font-weight: bold\"> Layer (type)                         </span>┃<span style=\"font-weight: bold\"> Output Shape                </span>┃<span style=\"font-weight: bold\">         Param # </span>┃\n",
              "┡━━━━━━━━━━━━━━━━━━━━━━━━━━━━━━━━━━━━━━╇━━━━━━━━━━━━━━━━━━━━━━━━━━━━━╇━━━━━━━━━━━━━━━━━┩\n",
              "│ input_layer_4 (<span style=\"color: #0087ff; text-decoration-color: #0087ff\">InputLayer</span>)           │ (<span style=\"color: #00af00; text-decoration-color: #00af00\">64</span>, <span style=\"color: #00d7ff; text-decoration-color: #00d7ff\">None</span>)                  │               <span style=\"color: #00af00; text-decoration-color: #00af00\">0</span> │\n",
              "├──────────────────────────────────────┼─────────────────────────────┼─────────────────┤\n",
              "│ embedding_5 (<span style=\"color: #0087ff; text-decoration-color: #0087ff\">Embedding</span>)              │ (<span style=\"color: #00af00; text-decoration-color: #00af00\">64</span>, <span style=\"color: #00d7ff; text-decoration-color: #00d7ff\">None</span>, <span style=\"color: #00af00; text-decoration-color: #00af00\">256</span>)             │          <span style=\"color: #00af00; text-decoration-color: #00af00\">16,640</span> │\n",
              "├──────────────────────────────────────┼─────────────────────────────┼─────────────────┤\n",
              "│ lstm_4 (<span style=\"color: #0087ff; text-decoration-color: #0087ff\">LSTM</span>)                        │ (<span style=\"color: #00af00; text-decoration-color: #00af00\">64</span>, <span style=\"color: #00d7ff; text-decoration-color: #00d7ff\">None</span>, <span style=\"color: #00af00; text-decoration-color: #00af00\">1024</span>)            │       <span style=\"color: #00af00; text-decoration-color: #00af00\">5,246,976</span> │\n",
              "├──────────────────────────────────────┼─────────────────────────────┼─────────────────┤\n",
              "│ dense_4 (<span style=\"color: #0087ff; text-decoration-color: #0087ff\">Dense</span>)                      │ (<span style=\"color: #00af00; text-decoration-color: #00af00\">64</span>, <span style=\"color: #00d7ff; text-decoration-color: #00d7ff\">None</span>, <span style=\"color: #00af00; text-decoration-color: #00af00\">65</span>)              │          <span style=\"color: #00af00; text-decoration-color: #00af00\">66,625</span> │\n",
              "└──────────────────────────────────────┴─────────────────────────────┴─────────────────┘\n",
              "</pre>\n"
            ]
          },
          "metadata": {}
        },
        {
          "output_type": "display_data",
          "data": {
            "text/plain": [
              "\u001b[1m Total params: \u001b[0m\u001b[38;5;34m5,330,241\u001b[0m (20.33 MB)\n"
            ],
            "text/html": [
              "<pre style=\"white-space:pre;overflow-x:auto;line-height:normal;font-family:Menlo,'DejaVu Sans Mono',consolas,'Courier New',monospace\"><span style=\"font-weight: bold\"> Total params: </span><span style=\"color: #00af00; text-decoration-color: #00af00\">5,330,241</span> (20.33 MB)\n",
              "</pre>\n"
            ]
          },
          "metadata": {}
        },
        {
          "output_type": "display_data",
          "data": {
            "text/plain": [
              "\u001b[1m Trainable params: \u001b[0m\u001b[38;5;34m5,330,241\u001b[0m (20.33 MB)\n"
            ],
            "text/html": [
              "<pre style=\"white-space:pre;overflow-x:auto;line-height:normal;font-family:Menlo,'DejaVu Sans Mono',consolas,'Courier New',monospace\"><span style=\"font-weight: bold\"> Trainable params: </span><span style=\"color: #00af00; text-decoration-color: #00af00\">5,330,241</span> (20.33 MB)\n",
              "</pre>\n"
            ]
          },
          "metadata": {}
        },
        {
          "output_type": "display_data",
          "data": {
            "text/plain": [
              "\u001b[1m Non-trainable params: \u001b[0m\u001b[38;5;34m0\u001b[0m (0.00 B)\n"
            ],
            "text/html": [
              "<pre style=\"white-space:pre;overflow-x:auto;line-height:normal;font-family:Menlo,'DejaVu Sans Mono',consolas,'Courier New',monospace\"><span style=\"font-weight: bold\"> Non-trainable params: </span><span style=\"color: #00af00; text-decoration-color: #00af00\">0</span> (0.00 B)\n",
              "</pre>\n"
            ]
          },
          "metadata": {}
        }
      ]
    },
    {
      "cell_type": "code",
      "source": [
        "# Creating Loss Function\n",
        "\n",
        "for input_example_batch, target_example_batch in data.take(1):\n",
        "  example_batch_predictions = model(input_example_batch)\n",
        "  print(example_batch_predictions.shape, \"# (batch_size, sequence_length, vocab_size)\")"
      ],
      "metadata": {
        "id": "PeRobVaRDPSX",
        "colab": {
          "base_uri": "https://localhost:8080/"
        },
        "outputId": "bd42d716-383b-435d-968a-4e2fbdf51ee3"
      },
      "execution_count": 59,
      "outputs": [
        {
          "output_type": "stream",
          "name": "stdout",
          "text": [
            "(64, 100, 65) # (batch_size, sequence_length, vocab_size)\n"
          ]
        }
      ]
    },
    {
      "cell_type": "code",
      "source": [
        "print(len(example_batch_predictions))\n",
        "print(example_batch_predictions)"
      ],
      "metadata": {
        "id": "TWlmusdtDPQB",
        "colab": {
          "base_uri": "https://localhost:8080/"
        },
        "outputId": "16c1db52-6aac-48a4-cdaa-95510f718c1e"
      },
      "execution_count": 60,
      "outputs": [
        {
          "output_type": "stream",
          "name": "stdout",
          "text": [
            "64\n",
            "tf.Tensor(\n",
            "[[[-6.81768684e-03  3.16746044e-03  6.51276810e-03 ... -1.61180273e-03\n",
            "    1.47096452e-03 -1.09821726e-02]\n",
            "  [-1.26440972e-02  1.61846646e-03  4.11273818e-03 ... -5.34773455e-04\n",
            "    4.79450682e-03 -7.58870831e-03]\n",
            "  [-5.91232069e-03  2.54046987e-03  2.46689003e-03 ...  3.76792857e-03\n",
            "    5.39564481e-03 -1.60078751e-03]\n",
            "  ...\n",
            "  [-6.74692681e-03 -2.91461917e-03  2.68521253e-03 ...  2.43679155e-03\n",
            "    5.75147010e-03 -1.20902318e-03]\n",
            "  [-8.39396100e-03 -1.11912389e-03  2.80345650e-03 ...  2.42646289e-04\n",
            "    5.08643268e-03 -4.32179950e-04]\n",
            "  [-2.57436023e-03 -1.17541861e-03  3.56630911e-03 ...  3.72025557e-03\n",
            "    4.41325316e-03  1.66571571e-03]]\n",
            "\n",
            " [[-4.64778673e-03 -1.85159384e-03 -5.96689153e-03 ...  3.00986489e-04\n",
            "    8.71113152e-04 -4.91641404e-04]\n",
            "  [-1.03484262e-02  1.11984985e-03  1.23523560e-03 ... -2.43693776e-03\n",
            "    2.25498783e-03 -1.10321697e-02]\n",
            "  [-2.40328722e-03  1.22564426e-03  1.87381811e-03 ... -6.95633562e-03\n",
            "    3.46291927e-03 -4.37954301e-03]\n",
            "  ...\n",
            "  [-5.36468066e-03  6.28064061e-03  8.49173311e-03 ... -3.39061348e-03\n",
            "    5.67335449e-03  6.49709837e-04]\n",
            "  [-1.01717571e-02  8.13912787e-03  1.23140439e-02 ... -2.45877518e-03\n",
            "    6.57128496e-03 -1.13433925e-02]\n",
            "  [-1.20786121e-02  5.76805556e-03  3.15440935e-03 ...  1.71683088e-04\n",
            "    6.69103023e-03 -9.51622985e-03]]\n",
            "\n",
            " [[-5.19050984e-03  4.79307550e-04  1.94981752e-03 ...  6.99856225e-03\n",
            "    3.37169203e-03  2.71997997e-03]\n",
            "  [-2.70381384e-03  3.07271583e-03  4.31704721e-05 ...  7.63600040e-03\n",
            "    1.58035394e-03  4.56874771e-03]\n",
            "  [-6.91123831e-04  1.36942370e-03  1.31505623e-03 ...  4.92719235e-03\n",
            "   -6.59792800e-04  8.52066185e-03]\n",
            "  ...\n",
            "  [-7.13068666e-03  4.70165582e-03  6.37622131e-03 ...  1.02641582e-02\n",
            "   -9.29548871e-03  4.67535201e-03]\n",
            "  [-1.28949033e-02  2.68710009e-03  4.01528133e-03 ...  8.67449213e-03\n",
            "   -1.59488234e-03  5.34611894e-03]\n",
            "  [-8.29983968e-03  4.56914771e-03  1.23663503e-03 ...  1.07516674e-02\n",
            "   -1.28032989e-03  7.70806707e-03]]\n",
            "\n",
            " ...\n",
            "\n",
            " [[-6.81768684e-03  3.16746044e-03  6.51276810e-03 ... -1.61180273e-03\n",
            "    1.47096452e-03 -1.09821726e-02]\n",
            "  [-4.03378624e-03  6.01392286e-03  2.79321871e-03 ...  2.22545909e-03\n",
            "    1.22214124e-05 -5.58659062e-03]\n",
            "  [-1.83787348e-03  4.18680022e-03  2.67387019e-03 ...  1.68149115e-03\n",
            "   -1.87541824e-03  7.37978611e-04]\n",
            "  ...\n",
            "  [-1.16163073e-02  1.13252085e-02  1.15577066e-02 ...  4.62512253e-03\n",
            "    1.21297373e-03 -1.11231953e-02]\n",
            "  [-4.90893191e-03  1.24287158e-02  7.83224404e-03 ...  8.95334221e-03\n",
            "    3.61821568e-03 -4.38220194e-03]\n",
            "  [-1.16905952e-02  1.43553521e-02  1.18589336e-02 ...  6.88512623e-03\n",
            "    5.63845737e-03 -1.41375996e-02]]\n",
            "\n",
            " [[-4.64778673e-03 -1.85159384e-03 -5.96689153e-03 ...  3.00986489e-04\n",
            "    8.71113152e-04 -4.91641404e-04]\n",
            "  [-8.04971065e-03 -2.32592528e-03 -7.65433861e-03 ...  2.40767305e-03\n",
            "   -9.67432000e-03 -3.45589896e-03]\n",
            "  [-1.33426320e-02 -4.05030884e-03 -8.10109358e-03 ...  4.72532993e-04\n",
            "   -2.96468544e-03 -1.21719728e-03]\n",
            "  ...\n",
            "  [-1.14228828e-02  4.19509364e-03  9.87624843e-03 ...  1.00185145e-02\n",
            "    1.61517004e-03  2.28115314e-04]\n",
            "  [-1.50967836e-02  7.41461851e-03  1.43063348e-02 ...  7.35333888e-03\n",
            "    3.77785601e-03 -9.77691542e-03]\n",
            "  [-7.96111207e-03  8.81388970e-03  1.05190808e-02 ...  1.04207592e-02\n",
            "    5.55360038e-03 -2.35291920e-03]]\n",
            "\n",
            " [[ 3.31102102e-03  1.25766767e-03 -8.80944543e-04 ...  3.48458602e-03\n",
            "    1.43092149e-03  3.98529787e-03]\n",
            "  [-3.33406054e-03  4.37974173e-04 -3.53012816e-03 ...  6.00178586e-03\n",
            "   -8.81354418e-03 -2.02115974e-04]\n",
            "  [-1.00742523e-02  3.26980208e-03  2.84181489e-03 ...  2.12111627e-03\n",
            "   -3.56821367e-03 -1.02292746e-02]\n",
            "  ...\n",
            "  [ 1.69576774e-03  2.99933203e-03 -1.94076868e-03 ...  6.57330686e-03\n",
            "    5.08431764e-03  5.16026467e-03]\n",
            "  [-3.68906441e-03 -2.14888854e-03 -7.89995611e-05 ...  8.92471615e-03\n",
            "    6.99623860e-03 -4.55662375e-03]\n",
            "  [-7.66488211e-03 -3.16038704e-03 -3.15859192e-03 ...  1.01363622e-02\n",
            "   -4.72574867e-03 -7.91024230e-03]]], shape=(64, 100, 65), dtype=float32)\n"
          ]
        }
      ]
    },
    {
      "cell_type": "code",
      "source": [
        "pred = example_batch_predictions[0]\n",
        "print(len(pred))\n",
        "print(pred)"
      ],
      "metadata": {
        "id": "2ueIqfjzDPNj",
        "colab": {
          "base_uri": "https://localhost:8080/"
        },
        "outputId": "856123ca-3e7c-411d-cf73-2015dbe61f8f"
      },
      "execution_count": 61,
      "outputs": [
        {
          "output_type": "stream",
          "name": "stdout",
          "text": [
            "100\n",
            "tf.Tensor(\n",
            "[[-0.00681769  0.00316746  0.00651277 ... -0.0016118   0.00147096\n",
            "  -0.01098217]\n",
            " [-0.0126441   0.00161847  0.00411274 ... -0.00053477  0.00479451\n",
            "  -0.00758871]\n",
            " [-0.00591232  0.00254047  0.00246689 ...  0.00376793  0.00539564\n",
            "  -0.00160079]\n",
            " ...\n",
            " [-0.00674693 -0.00291462  0.00268521 ...  0.00243679  0.00575147\n",
            "  -0.00120902]\n",
            " [-0.00839396 -0.00111912  0.00280346 ...  0.00024265  0.00508643\n",
            "  -0.00043218]\n",
            " [-0.00257436 -0.00117542  0.00356631 ...  0.00372026  0.00441325\n",
            "   0.00166572]], shape=(100, 65), dtype=float32)\n"
          ]
        }
      ]
    },
    {
      "cell_type": "code",
      "source": [
        "time_pred = pred[0]\n",
        "print(len(time_pred))\n",
        "print(time_pred)"
      ],
      "metadata": {
        "colab": {
          "base_uri": "https://localhost:8080/"
        },
        "id": "OVi3Uc9NoeLJ",
        "outputId": "393c339b-244b-411c-eef3-5d94c96ec7c2"
      },
      "execution_count": 62,
      "outputs": [
        {
          "output_type": "stream",
          "name": "stdout",
          "text": [
            "65\n",
            "tf.Tensor(\n",
            "[-6.8176868e-03  3.1674604e-03  6.5127681e-03 -3.6410191e-03\n",
            "  5.6521804e-03  3.5542725e-03 -6.2074801e-03 -3.4959295e-03\n",
            " -6.9853704e-04  7.5092289e-04  1.4842573e-03 -1.8161153e-03\n",
            " -2.7611330e-03  3.4591747e-03 -5.3803385e-03 -3.0521877e-04\n",
            "  4.0847231e-03  3.9942525e-03 -7.3202704e-03 -2.9947904e-03\n",
            " -4.3837358e-03 -3.3912002e-04  7.1774237e-04 -1.6136977e-03\n",
            "  3.8199709e-04 -3.9093881e-03 -8.0855330e-04  4.5203473e-05\n",
            "  4.8964550e-03  4.0648198e-03  3.0484868e-03  3.0218980e-03\n",
            "  1.5649277e-03 -1.0886979e-02  7.4030616e-04 -4.6934355e-03\n",
            " -3.6673627e-03 -2.3914760e-03 -1.6895571e-03 -6.4284317e-03\n",
            " -1.6955824e-03 -1.5276377e-04  4.9723517e-03  8.1101584e-04\n",
            " -1.1577413e-03 -6.6341939e-03 -4.5550819e-03  3.4717761e-04\n",
            "  1.7755768e-04 -7.2192482e-04 -7.1078038e-04 -9.2993543e-04\n",
            " -1.2899957e-04  2.1593652e-03  3.2050940e-03  1.8238241e-03\n",
            "  8.0845912e-04 -3.0543569e-03  3.3014915e-03  7.0989964e-04\n",
            "  6.6054903e-04  1.3242703e-03 -1.6118027e-03  1.4709645e-03\n",
            " -1.0982173e-02], shape=(65,), dtype=float32)\n"
          ]
        }
      ]
    },
    {
      "cell_type": "code",
      "source": [
        "# Determining Predicted Characters\n",
        "\n",
        "sampled_indices = tf.random.categorical(pred, num_samples=1)\n",
        "\n",
        "sampled_indices = np.reshape(sampled_indices, (1, -1))[0]\n",
        "predicted_chars = int_to_text(sampled_indices)\n",
        "\n",
        "predicted_chars"
      ],
      "metadata": {
        "colab": {
          "base_uri": "https://localhost:8080/",
          "height": 35
        },
        "id": "uTPRXe6xoeIr",
        "outputId": "9afa9e36-8db3-449b-d37e-8106cf0042b5"
      },
      "execution_count": 63,
      "outputs": [
        {
          "output_type": "execute_result",
          "data": {
            "text/plain": [
              "\"W,mqypDPbNWc'u?ypcPOe$W 3cu'DARz&zIsQ?3rHxkKF PUpTqJs.k,bs;vSabnglDf.fci\\njxNJmxQcgHKyg'\\niBVQgYbxIY-T\""
            ],
            "application/vnd.google.colaboratory.intrinsic+json": {
              "type": "string"
            }
          },
          "metadata": {},
          "execution_count": 63
        }
      ]
    },
    {
      "cell_type": "code",
      "source": [
        "def loss(labels, logits):\n",
        "  return tf.keras.losses.sparse_categorical_crossentropy(labels, logits, from_logits=True)"
      ],
      "metadata": {
        "id": "usJKBERLoeFm"
      },
      "execution_count": 64,
      "outputs": []
    },
    {
      "cell_type": "code",
      "source": [
        "model.compile(optimizer=\"adam\", loss=loss)"
      ],
      "metadata": {
        "id": "7tm85dg-oeCO"
      },
      "execution_count": 65,
      "outputs": []
    },
    {
      "cell_type": "code",
      "source": [
        "# Creating Checkpoints\n",
        "\n",
        "checkpoint_dir = './training_checkpoints'\n",
        "checkpoint_prefix = os.path.join(checkpoint_dir, \"ckpt_{epoch}.weights.h5\")\n",
        "\n",
        "checkpoint_callback = tf.keras.callbacks.ModelCheckpoint(\n",
        "    filepath = checkpoint_prefix,\n",
        "    save_weights_only = True\n",
        ")"
      ],
      "metadata": {
        "id": "ZUTLtACprHyd"
      },
      "execution_count": 66,
      "outputs": []
    },
    {
      "cell_type": "code",
      "source": [
        "# Model Training\n",
        "\n",
        "history = model.fit(data, epochs=40, callbacks=[checkpoint_callback])"
      ],
      "metadata": {
        "colab": {
          "base_uri": "https://localhost:8080/"
        },
        "id": "9shsAiqWsvEU",
        "outputId": "4f0c4c2c-4e73-4f07-f4c8-f968a5997377"
      },
      "execution_count": 25,
      "outputs": [
        {
          "output_type": "stream",
          "name": "stdout",
          "text": [
            "Epoch 1/40\n",
            "\u001b[1m172/172\u001b[0m \u001b[32m━━━━━━━━━━━━━━━━━━━━\u001b[0m\u001b[37m\u001b[0m \u001b[1m17s\u001b[0m 77ms/step - loss: 2.8687\n",
            "Epoch 2/40\n",
            "\u001b[1m172/172\u001b[0m \u001b[32m━━━━━━━━━━━━━━━━━━━━\u001b[0m\u001b[37m\u001b[0m \u001b[1m16s\u001b[0m 81ms/step - loss: 1.8477\n",
            "Epoch 3/40\n",
            "\u001b[1m172/172\u001b[0m \u001b[32m━━━━━━━━━━━━━━━━━━━━\u001b[0m\u001b[37m\u001b[0m \u001b[1m20s\u001b[0m 81ms/step - loss: 1.5958\n",
            "Epoch 4/40\n",
            "\u001b[1m172/172\u001b[0m \u001b[32m━━━━━━━━━━━━━━━━━━━━\u001b[0m\u001b[37m\u001b[0m \u001b[1m21s\u001b[0m 78ms/step - loss: 1.4718\n",
            "Epoch 5/40\n",
            "\u001b[1m172/172\u001b[0m \u001b[32m━━━━━━━━━━━━━━━━━━━━\u001b[0m\u001b[37m\u001b[0m \u001b[1m15s\u001b[0m 79ms/step - loss: 1.3997\n",
            "Epoch 6/40\n",
            "\u001b[1m172/172\u001b[0m \u001b[32m━━━━━━━━━━━━━━━━━━━━\u001b[0m\u001b[37m\u001b[0m \u001b[1m21s\u001b[0m 78ms/step - loss: 1.3453\n",
            "Epoch 7/40\n",
            "\u001b[1m172/172\u001b[0m \u001b[32m━━━━━━━━━━━━━━━━━━━━\u001b[0m\u001b[37m\u001b[0m \u001b[1m16s\u001b[0m 81ms/step - loss: 1.3037\n",
            "Epoch 8/40\n",
            "\u001b[1m172/172\u001b[0m \u001b[32m━━━━━━━━━━━━━━━━━━━━\u001b[0m\u001b[37m\u001b[0m \u001b[1m21s\u001b[0m 79ms/step - loss: 1.2661\n",
            "Epoch 9/40\n",
            "\u001b[1m172/172\u001b[0m \u001b[32m━━━━━━━━━━━━━━━━━━━━\u001b[0m\u001b[37m\u001b[0m \u001b[1m16s\u001b[0m 80ms/step - loss: 1.2315\n",
            "Epoch 10/40\n",
            "\u001b[1m172/172\u001b[0m \u001b[32m━━━━━━━━━━━━━━━━━━━━\u001b[0m\u001b[37m\u001b[0m \u001b[1m21s\u001b[0m 78ms/step - loss: 1.1997\n",
            "Epoch 11/40\n",
            "\u001b[1m172/172\u001b[0m \u001b[32m━━━━━━━━━━━━━━━━━━━━\u001b[0m\u001b[37m\u001b[0m \u001b[1m16s\u001b[0m 80ms/step - loss: 1.1657\n",
            "Epoch 12/40\n",
            "\u001b[1m172/172\u001b[0m \u001b[32m━━━━━━━━━━━━━━━━━━━━\u001b[0m\u001b[37m\u001b[0m \u001b[1m21s\u001b[0m 79ms/step - loss: 1.1341\n",
            "Epoch 13/40\n",
            "\u001b[1m172/172\u001b[0m \u001b[32m━━━━━━━━━━━━━━━━━━━━\u001b[0m\u001b[37m\u001b[0m \u001b[1m16s\u001b[0m 81ms/step - loss: 1.0999\n",
            "Epoch 14/40\n",
            "\u001b[1m172/172\u001b[0m \u001b[32m━━━━━━━━━━━━━━━━━━━━\u001b[0m\u001b[37m\u001b[0m \u001b[1m15s\u001b[0m 79ms/step - loss: 1.0657\n",
            "Epoch 15/40\n",
            "\u001b[1m172/172\u001b[0m \u001b[32m━━━━━━━━━━━━━━━━━━━━\u001b[0m\u001b[37m\u001b[0m \u001b[1m16s\u001b[0m 79ms/step - loss: 1.0298\n",
            "Epoch 16/40\n",
            "\u001b[1m172/172\u001b[0m \u001b[32m━━━━━━━━━━━━━━━━━━━━\u001b[0m\u001b[37m\u001b[0m \u001b[1m15s\u001b[0m 78ms/step - loss: 0.9941\n",
            "Epoch 17/40\n",
            "\u001b[1m172/172\u001b[0m \u001b[32m━━━━━━━━━━━━━━━━━━━━\u001b[0m\u001b[37m\u001b[0m \u001b[1m21s\u001b[0m 80ms/step - loss: 0.9550\n",
            "Epoch 18/40\n",
            "\u001b[1m172/172\u001b[0m \u001b[32m━━━━━━━━━━━━━━━━━━━━\u001b[0m\u001b[37m\u001b[0m \u001b[1m21s\u001b[0m 81ms/step - loss: 0.9183\n",
            "Epoch 19/40\n",
            "\u001b[1m172/172\u001b[0m \u001b[32m━━━━━━━━━━━━━━━━━━━━\u001b[0m\u001b[37m\u001b[0m \u001b[1m16s\u001b[0m 82ms/step - loss: 0.8798\n",
            "Epoch 20/40\n",
            "\u001b[1m172/172\u001b[0m \u001b[32m━━━━━━━━━━━━━━━━━━━━\u001b[0m\u001b[37m\u001b[0m \u001b[1m20s\u001b[0m 78ms/step - loss: 0.8425\n",
            "Epoch 21/40\n",
            "\u001b[1m172/172\u001b[0m \u001b[32m━━━━━━━━━━━━━━━━━━━━\u001b[0m\u001b[37m\u001b[0m \u001b[1m15s\u001b[0m 80ms/step - loss: 0.8099\n",
            "Epoch 22/40\n",
            "\u001b[1m172/172\u001b[0m \u001b[32m━━━━━━━━━━━━━━━━━━━━\u001b[0m\u001b[37m\u001b[0m \u001b[1m20s\u001b[0m 79ms/step - loss: 0.7733\n",
            "Epoch 23/40\n",
            "\u001b[1m172/172\u001b[0m \u001b[32m━━━━━━━━━━━━━━━━━━━━\u001b[0m\u001b[37m\u001b[0m \u001b[1m21s\u001b[0m 81ms/step - loss: 0.7406\n",
            "Epoch 24/40\n",
            "\u001b[1m172/172\u001b[0m \u001b[32m━━━━━━━━━━━━━━━━━━━━\u001b[0m\u001b[37m\u001b[0m \u001b[1m16s\u001b[0m 82ms/step - loss: 0.7103\n",
            "Epoch 25/40\n",
            "\u001b[1m172/172\u001b[0m \u001b[32m━━━━━━━━━━━━━━━━━━━━\u001b[0m\u001b[37m\u001b[0m \u001b[1m15s\u001b[0m 80ms/step - loss: 0.6839\n",
            "Epoch 26/40\n",
            "\u001b[1m172/172\u001b[0m \u001b[32m━━━━━━━━━━━━━━━━━━━━\u001b[0m\u001b[37m\u001b[0m \u001b[1m16s\u001b[0m 79ms/step - loss: 0.6557\n",
            "Epoch 27/40\n",
            "\u001b[1m172/172\u001b[0m \u001b[32m━━━━━━━━━━━━━━━━━━━━\u001b[0m\u001b[37m\u001b[0m \u001b[1m15s\u001b[0m 79ms/step - loss: 0.6309\n",
            "Epoch 28/40\n",
            "\u001b[1m172/172\u001b[0m \u001b[32m━━━━━━━━━━━━━━━━━━━━\u001b[0m\u001b[37m\u001b[0m \u001b[1m21s\u001b[0m 79ms/step - loss: 0.6109\n",
            "Epoch 29/40\n",
            "\u001b[1m172/172\u001b[0m \u001b[32m━━━━━━━━━━━━━━━━━━━━\u001b[0m\u001b[37m\u001b[0m \u001b[1m16s\u001b[0m 81ms/step - loss: 0.5897\n",
            "Epoch 30/40\n",
            "\u001b[1m172/172\u001b[0m \u001b[32m━━━━━━━━━━━━━━━━━━━━\u001b[0m\u001b[37m\u001b[0m \u001b[1m16s\u001b[0m 81ms/step - loss: 0.5729\n",
            "Epoch 31/40\n",
            "\u001b[1m172/172\u001b[0m \u001b[32m━━━━━━━━━━━━━━━━━━━━\u001b[0m\u001b[37m\u001b[0m \u001b[1m16s\u001b[0m 79ms/step - loss: 0.5529\n",
            "Epoch 32/40\n",
            "\u001b[1m172/172\u001b[0m \u001b[32m━━━━━━━━━━━━━━━━━━━━\u001b[0m\u001b[37m\u001b[0m \u001b[1m19s\u001b[0m 78ms/step - loss: 0.5395\n",
            "Epoch 33/40\n",
            "\u001b[1m172/172\u001b[0m \u001b[32m━━━━━━━━━━━━━━━━━━━━\u001b[0m\u001b[37m\u001b[0m \u001b[1m21s\u001b[0m 80ms/step - loss: 0.5268\n",
            "Epoch 34/40\n",
            "\u001b[1m172/172\u001b[0m \u001b[32m━━━━━━━━━━━━━━━━━━━━\u001b[0m\u001b[37m\u001b[0m \u001b[1m16s\u001b[0m 82ms/step - loss: 0.5124\n",
            "Epoch 35/40\n",
            "\u001b[1m172/172\u001b[0m \u001b[32m━━━━━━━━━━━━━━━━━━━━\u001b[0m\u001b[37m\u001b[0m \u001b[1m20s\u001b[0m 79ms/step - loss: 0.5007\n",
            "Epoch 36/40\n",
            "\u001b[1m172/172\u001b[0m \u001b[32m━━━━━━━━━━━━━━━━━━━━\u001b[0m\u001b[37m\u001b[0m \u001b[1m16s\u001b[0m 81ms/step - loss: 0.4914\n",
            "Epoch 37/40\n",
            "\u001b[1m172/172\u001b[0m \u001b[32m━━━━━━━━━━━━━━━━━━━━\u001b[0m\u001b[37m\u001b[0m \u001b[1m20s\u001b[0m 79ms/step - loss: 0.4824\n",
            "Epoch 38/40\n",
            "\u001b[1m172/172\u001b[0m \u001b[32m━━━━━━━━━━━━━━━━━━━━\u001b[0m\u001b[37m\u001b[0m \u001b[1m21s\u001b[0m 81ms/step - loss: 0.4749\n",
            "Epoch 39/40\n",
            "\u001b[1m172/172\u001b[0m \u001b[32m━━━━━━━━━━━━━━━━━━━━\u001b[0m\u001b[37m\u001b[0m \u001b[1m16s\u001b[0m 81ms/step - loss: 0.4645\n",
            "Epoch 40/40\n",
            "\u001b[1m172/172\u001b[0m \u001b[32m━━━━━━━━━━━━━━━━━━━━\u001b[0m\u001b[37m\u001b[0m \u001b[1m16s\u001b[0m 81ms/step - loss: 0.4570\n"
          ]
        }
      ]
    },
    {
      "cell_type": "code",
      "source": [
        "# Loading Model\n",
        "\n",
        "model = build_model(VOCAB_SIZE, EMBEDDING_DIM, RNN_UNITS, batch_size=1)"
      ],
      "metadata": {
        "id": "aEih-Jh0svBl"
      },
      "execution_count": 67,
      "outputs": []
    },
    {
      "cell_type": "code",
      "source": [
        "# Load the latest checkpoint if it exists\n",
        "latest_checkpoint = tf.train.latest_checkpoint(checkpoint_dir)\n",
        "\n",
        "if latest_checkpoint:\n",
        "    print(f\"Loading weights from checkpoint: {latest_checkpoint}\")\n",
        "    model.load_weights(latest_checkpoint)\n",
        "else:\n",
        "    print(\"No checkpoint found. Proceeding without loading weights.\")\n",
        "\n",
        "# Ensure the model is built before loading weights\n",
        "model.build(tf.TensorShape([1, None]))\n"
      ],
      "metadata": {
        "colab": {
          "base_uri": "https://localhost:8080/"
        },
        "id": "LIQSlTvn9oLJ",
        "outputId": "0f532ed1-0aef-4102-fc64-e4faca0d08dd"
      },
      "execution_count": 68,
      "outputs": [
        {
          "output_type": "stream",
          "name": "stdout",
          "text": [
            "No checkpoint found. Proceeding without loading weights.\n"
          ]
        }
      ]
    },
    {
      "cell_type": "code",
      "source": [
        "checkpoint_num = 10\n",
        "checkpoint_path = f'./training_checkpoints/ckpt_{checkpoint_num}.weights.h5'\n",
        "\n",
        "model.build(tf.TensorShape([1, None]))\n",
        "\n",
        "try:\n",
        "    model.load_weights(checkpoint_path)\n",
        "    print(f\"Weights from checkpoint {checkpoint_num} loaded successfully.\")\n",
        "except Exception as e:\n",
        "    print(f\"Error loading weights from checkpoint {checkpoint_num}: {e}\")"
      ],
      "metadata": {
        "colab": {
          "base_uri": "https://localhost:8080/"
        },
        "id": "uqYAqCDesu9V",
        "outputId": "680404fd-0afa-4891-a8f2-edf4c2226944"
      },
      "execution_count": 69,
      "outputs": [
        {
          "output_type": "stream",
          "name": "stdout",
          "text": [
            "Weights from checkpoint 10 loaded successfully.\n"
          ]
        }
      ]
    },
    {
      "cell_type": "code",
      "source": [
        "# Generating Text\n",
        "\n",
        "def generate_text(model, start_string):\n",
        "\n",
        "  num_generate = 800    # Number of characters to generate\n",
        "\n",
        "  # Convert the start string to numbers (vectorize)\n",
        "  input_eval = [char2idx[s] for s in start_string]\n",
        "  input_eval = tf.expand_dims(input_eval, 0)\n",
        "\n",
        "  text_generated = []\n",
        "\n",
        "  temperature = 1.0     # Controls the randomness of predictions\n",
        "\n",
        "  # Reset the model's state before generating the text\n",
        "  # model.reset_states()\n",
        "\n",
        "  for i in range(num_generate):\n",
        "    predictions = model(input_eval)\n",
        "\n",
        "    predictions = tf.squeeze(predictions, 0)\n",
        "\n",
        "    # Adjust predictions by temperature\n",
        "    predictions = predictions / temperature\n",
        "\n",
        "    # Sample the predicted character using categorical distribution\n",
        "    predicted_id = tf.random.categorical(predictions, num_samples=1)[-1,0].numpy()\n",
        "\n",
        "    # Pass the predicted character as the next input to the model\n",
        "    input_eval = tf.expand_dims([predicted_id], 0)\n",
        "\n",
        "    # Append the predicted character to the generated text\n",
        "    text_generated.append(idx2char[predicted_id])\n",
        "\n",
        "  return (start_string + ''.join(text_generated))\n"
      ],
      "metadata": {
        "id": "c6_ugBXUsu6T"
      },
      "execution_count": 77,
      "outputs": []
    },
    {
      "cell_type": "code",
      "source": [
        "input = \"ROMEO: \"\n",
        "print(generate_text(model, start_string=input))"
      ],
      "metadata": {
        "colab": {
          "base_uri": "https://localhost:8080/"
        },
        "id": "2w7FQWWa0FVt",
        "outputId": "1e956169-2eba-4cb3-f716-4c3850a8085a"
      },
      "execution_count": 78,
      "outputs": [
        {
          "output_type": "stream",
          "name": "stdout",
          "text": [
            "ROMEO: What, is Ty\n",
            "Glambess many gentlewoman's Mannar,\n",
            "live no more know thou hadst:\n",
            "If, then may not, Cambio!\n",
            "\n",
            "QUEEN ELIZABETH:\n",
            "What if you wear you?\n",
            "\n",
            "Cape:\n",
            "In hand of Coriolity I have heard,\n",
            "So man sweet so thy love they die IJTAND:\n",
            "Why, nay, I will tell thee!--due full extremis\n",
            "'rd in quern other friends.\n",
            "\n",
            "CAMILLO:\n",
            "I cannot dren,\n",
            "We will poor whether: I am dead!\n",
            "Why then the duke shall not be delivered,\n",
            "My most acquaint planters of thy brothers:\n",
            "Remember what you shall proper vineant\n",
            "To the door for shame was knowl'd;\n",
            "Thou art's uhe of the Capito of death?\n",
            "I'll hear the house may carry it with capers\n",
            "Will we have known thee; Richard come to hers,\n",
            "His kindred for his purpose to be hour.\n",
            "\n",
            "BRAKENBURY:\n",
            "Though time ask it to you. Calls\n",
            "To capt it in the crowned cockling son should be worth to be so\n"
          ]
        }
      ]
    },
    {
      "cell_type": "code",
      "source": [],
      "metadata": {
        "id": "AAE1tQXv1-FO"
      },
      "execution_count": null,
      "outputs": []
    },
    {
      "cell_type": "code",
      "source": [],
      "metadata": {
        "id": "uNLbZQGT1-Cz"
      },
      "execution_count": null,
      "outputs": []
    },
    {
      "cell_type": "code",
      "source": [],
      "metadata": {
        "id": "skHZeGtZ0FTa"
      },
      "execution_count": null,
      "outputs": []
    }
  ]
}